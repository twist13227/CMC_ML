{
 "cells": [
  {
   "cell_type": "markdown",
   "metadata": {
    "collapsed": true,
    "id": "rR28CrOF7X2j"
   },
   "source": [
    "# Машинное обучение. ВМК МГУ\n",
    "## Практическое задание 8: Градиентный бустинг деревьев"
   ]
  },
  {
   "cell_type": "markdown",
   "metadata": {
    "id": "fKpuBwx27X2n"
   },
   "source": [
    "### Важно! О формате сдачи\n",
    "\n",
    "* **Практически все выделенные задания из ноутбука оцениваются по системе <font color='red'>кросс-рецензирования</font>. Задания, в котором надо реализовать свой код и послать в систему, выделены здесь и в pdf отдельно**\n",
    "* **В этом ноутбуке есть задание на ML-решение**\n",
    "* **При решении ноутбука используйте данный шаблон. Не нужно удалять текстовые ячейки c разметкой частей ноутбука и формулировками заданий. Добавлять свои ячейки, при необходимости, конечно можно**\n",
    "* **Везде, где в формулровке задания есть какой-либо вопрос (или просьба вывода), необходимо прописать ответ в ячейку (код или markdown).**\n",
    "* **Наличие кода решения обязательно. Письменные ответы на вопросы без сопутствующего кода оцениваются в 0 баллов.**"
   ]
  },
  {
   "cell_type": "markdown",
   "metadata": {
    "id": "rESxzK807X2o"
   },
   "source": [
    "**А также..**\n",
    "\n",
    "Если в ячейке написана фраза \"Вывод\"/\"Ответ на вопрос\" итд, то ожидается ответ в виде текста (можете добавить ячейки с кодом, если считаете это необходимым, но это необязательно). Если в ячейке написано \"Your code here\", то ожидается ответ в виде кода (можете добавить ячейки с кодом, если считаете это необходимым, но это необязательно). Если есть и ячейка с фразой \"Вывод\", и ячейка с фразой \"Your code here\", то в ответе ожидается и код, и текст)"
   ]
  },
  {
   "cell_type": "markdown",
   "metadata": {
    "id": "baEqASDy7X2o"
   },
   "source": [
    "__В этом задании вы..:__\n",
    "\n",
    "- Познакомитесь с несколькими новыми библиотеками машинного обучения\n",
    "- Сравните между собой разные реализации градиентных бустингов\n",
    "- Примените все полученные знания для получения лучшего скора на датасете фильмов\n",
    "\n",
    "### *Примерное время выполнения (run all) всех ячеек ноутбука (без ML-решения): 60 минут*\n",
    "\n",
    "----------------------------------------------"
   ]
  },
  {
   "cell_type": "markdown",
   "metadata": {
    "id": "dGuTHcED7i4j"
   },
   "source": [
    "Немного магии, которую не надо менять, но надо выполнить перед каждым запуском!\n",
    "\n",
    "## Установка в Google Colab\n",
    "Если вы используете Google Colab, то вам достаточно установить библиотеки с помощью ячейки ниже. \n",
    "\n",
    "После установки нужных версий нажмите на кнопку `Restart runtime`, которая появится в следующей ячейке после завершения ее выполнения.\n",
    "\n",
    "После перезапуска (`Restart runtime`) устанавливать библиотеки еще раз не нужно, достаточно проверить, что установилась их новая версия.\n",
    "\n",
    "**Важно!** \n",
    "Устанавливать нужные версии нужно каждый раз, когда создается новый рантайм. Например, если вы 2 часа подряд делаете это задание, то подготовить библиотеки достаточно 1 раз. Но если вы, например, начали в понедельник, затем закрыли/выключили ноутбук, то при продолжении в среду, вам нужно будет запустить рантайм заново и следовательно заново установить библиотеки.\n",
    "\n",
    "**Обратите внимание, что установка `torch` и `tensorflow` через `pip` может сломать ваше окружение, особенно если вы используете GPU. Выполняйте их установку в соответствии с Вашей конфигурацией системы или в отдельном виртуальном окружении**\n",
    "\n",
    "Внимание! Ячейка перезапускает рантайм для учета обновления библиотек!\n",
    "\n",
    "Тот же файл ссылкой: https://drive.google.com/file/d/1emagLwrQrZoaitHvoRkp2ZOFNg0TsZdR/view?usp=share_link"
   ]
  },
  {
   "cell_type": "code",
   "execution_count": 3,
   "metadata": {
    "colab": {
     "base_uri": "https://localhost:8080/",
     "height": 1000,
     "referenced_widgets": [
      "faaec1c536c74f9eadada9fef114cd1e",
      "c10188c2a4004eb59773ef52c304ec48",
      "157e6512fe58493393f652c2e1365ed9"
     ]
    },
    "id": "-gSWrzAD7iIq",
    "outputId": "0bee5e29-1a1d-4338-e11e-9d14e766fb11"
   },
   "outputs": [
    {
     "name": "stdout",
     "output_type": "stream",
     "text": [
      "Defaulting to user installation because normal site-packages is not writeable\n",
      "Requirement already satisfied: gdown in /home/twist/.local/lib/python3.9/site-packages (4.7.1)\n",
      "Requirement already satisfied: six in /home/twist/.local/lib/python3.9/site-packages (from gdown) (1.16.0)\n",
      "Requirement already satisfied: beautifulsoup4 in /home/twist/.local/lib/python3.9/site-packages (from gdown) (4.11.1)\n",
      "Requirement already satisfied: filelock in /home/twist/.local/lib/python3.9/site-packages (from gdown) (3.8.0)\n",
      "Requirement already satisfied: tqdm in /home/twist/.local/lib/python3.9/site-packages (from gdown) (4.65.0)\n",
      "Requirement already satisfied: requests[socks] in /home/twist/.local/lib/python3.9/site-packages (from gdown) (2.25.1)\n",
      "Requirement already satisfied: soupsieve>1.2 in /home/twist/.local/lib/python3.9/site-packages (from beautifulsoup4->gdown) (2.3.2.post1)\n",
      "Requirement already satisfied: chardet<5,>=3.0.2 in /home/twist/.local/lib/python3.9/site-packages (from requests[socks]->gdown) (4.0.0)\n",
      "Requirement already satisfied: certifi>=2017.4.17 in /home/twist/.local/lib/python3.9/site-packages (from requests[socks]->gdown) (2022.6.15)\n",
      "Requirement already satisfied: urllib3<1.27,>=1.21.1 in /home/twist/.local/lib/python3.9/site-packages (from requests[socks]->gdown) (1.26.11)\n",
      "Requirement already satisfied: idna<3,>=2.5 in /home/twist/.local/lib/python3.9/site-packages (from requests[socks]->gdown) (2.10)\n",
      "Requirement already satisfied: PySocks!=1.5.7,>=1.5.6 in /home/twist/.local/lib/python3.9/site-packages (from requests[socks]->gdown) (1.7.1)\n",
      "--- Logging error ---\n",
      "Traceback (most recent call last):\n",
      "  File \"/usr/local/lib/python3.9/site-packages/pip/_internal/utils/logging.py\", line 177, in emit\n",
      "    self.console.print(renderable, overflow=\"ignore\", crop=False, style=style)\n",
      "  File \"/usr/local/lib/python3.9/site-packages/pip/_vendor/rich/console.py\", line 1673, in print\n",
      "    extend(render(renderable, render_options))\n",
      "  File \"/usr/local/lib/python3.9/site-packages/pip/_vendor/rich/console.py\", line 1305, in render\n",
      "    for render_output in iter_render:\n",
      "  File \"/usr/local/lib/python3.9/site-packages/pip/_internal/utils/logging.py\", line 134, in __rich_console__\n",
      "    for line in lines:\n",
      "  File \"/usr/local/lib/python3.9/site-packages/pip/_vendor/rich/segment.py\", line 249, in split_lines\n",
      "    for segment in segments:\n",
      "  File \"/usr/local/lib/python3.9/site-packages/pip/_vendor/rich/console.py\", line 1283, in render\n",
      "    renderable = rich_cast(renderable)\n",
      "  File \"/usr/local/lib/python3.9/site-packages/pip/_vendor/rich/protocol.py\", line 36, in rich_cast\n",
      "    renderable = cast_method()\n",
      "  File \"/usr/local/lib/python3.9/site-packages/pip/_internal/self_outdated_check.py\", line 130, in __rich__\n",
      "    pip_cmd = get_best_invocation_for_this_pip()\n",
      "  File \"/usr/local/lib/python3.9/site-packages/pip/_internal/utils/entrypoints.py\", line 58, in get_best_invocation_for_this_pip\n",
      "    if found_executable and os.path.samefile(\n",
      "  File \"/usr/lib64/python3.9/genericpath.py\", line 101, in samefile\n",
      "    s2 = os.stat(f2)\n",
      "FileNotFoundError: [Errno 2] Нет такого файла или каталога: '/usr/bin/pip3.9'\n",
      "Call stack:\n",
      "  File \"/usr/local/bin/pip\", line 8, in <module>\n",
      "    sys.exit(main())\n",
      "  File \"/usr/local/lib/python3.9/site-packages/pip/_internal/cli/main.py\", line 70, in main\n",
      "    return command.main(cmd_args)\n",
      "  File \"/usr/local/lib/python3.9/site-packages/pip/_internal/cli/base_command.py\", line 101, in main\n",
      "    return self._main(args)\n",
      "  File \"/usr/local/lib/python3.9/site-packages/pip/_internal/cli/base_command.py\", line 223, in _main\n",
      "    self.handle_pip_version_check(options)\n",
      "  File \"/usr/local/lib/python3.9/site-packages/pip/_internal/cli/req_command.py\", line 190, in handle_pip_version_check\n",
      "    pip_self_version_check(session, options)\n",
      "  File \"/usr/local/lib/python3.9/site-packages/pip/_internal/self_outdated_check.py\", line 236, in pip_self_version_check\n",
      "    logger.warning(\"[present-rich] %s\", upgrade_prompt)\n",
      "  File \"/usr/lib64/python3.9/logging/__init__.py\", line 1458, in warning\n",
      "    self._log(WARNING, msg, args, **kwargs)\n",
      "  File \"/usr/lib64/python3.9/logging/__init__.py\", line 1589, in _log\n",
      "    self.handle(record)\n",
      "  File \"/usr/lib64/python3.9/logging/__init__.py\", line 1599, in handle\n",
      "    self.callHandlers(record)\n",
      "  File \"/usr/lib64/python3.9/logging/__init__.py\", line 1661, in callHandlers\n",
      "    hdlr.handle(record)\n",
      "  File \"/usr/lib64/python3.9/logging/__init__.py\", line 952, in handle\n",
      "    self.emit(record)\n",
      "  File \"/usr/local/lib/python3.9/site-packages/pip/_internal/utils/logging.py\", line 179, in emit\n",
      "    self.handleError(record)\n",
      "Message: '[present-rich] %s'\n",
      "Arguments: (UpgradePrompt(old='22.2.2', new='23.0.1'),)\n",
      "Downloading...\n",
      "From: https://drive.google.com/uc?id=1emagLwrQrZoaitHvoRkp2ZOFNg0TsZdR\n",
      "To: /home/twist/Загрузки/requirements2.txt\n",
      "100%|██████████████████████████████████████████| 416/416 [00:00<00:00, 1.53MB/s]\n",
      "Defaulting to user installation because normal site-packages is not writeable\n",
      "Collecting catboost==1.0.6\n",
      "  Downloading catboost-1.0.6-cp39-none-manylinux1_x86_64.whl (76.6 MB)\n",
      "\u001b[2K     \u001b[38;2;114;156;31m━━━━━━━━━━━━━━━━━━━━━━━━━━━━━━━━━━━━━━━━\u001b[0m \u001b[32m76.6/76.6 MB\u001b[0m \u001b[31m5.4 MB/s\u001b[0m eta \u001b[36m0:00:00\u001b[0mm eta \u001b[36m0:00:01\u001b[0m[36m0:00:01\u001b[0m\n",
      "\u001b[?25hCollecting gdown==4.6.4\n",
      "  Downloading gdown-4.6.4-py3-none-any.whl (14 kB)\n",
      "Collecting h5py==3.7.0\n",
      "  Downloading h5py-3.7.0-cp39-cp39-manylinux_2_12_x86_64.manylinux2010_x86_64.whl (4.5 MB)\n",
      "\u001b[2K     \u001b[38;2;114;156;31m━━━━━━━━━━━━━━━━━━━━━━━━━━━━━━━━━━━━━━━━\u001b[0m \u001b[32m4.5/4.5 MB\u001b[0m \u001b[31m3.0 MB/s\u001b[0m eta \u001b[36m0:00:00\u001b[0mm eta \u001b[36m0:00:01\u001b[0m[36m0:00:01\u001b[0mm\n",
      "\u001b[?25hCollecting hyperopt==0.2.7\n",
      "  Downloading hyperopt-0.2.7-py2.py3-none-any.whl (1.6 MB)\n",
      "\u001b[2K     \u001b[38;2;114;156;31m━━━━━━━━━━━━━━━━━━━━━━━━━━━━━━━━━━━━━━━━\u001b[0m \u001b[32m1.6/1.6 MB\u001b[0m \u001b[31m8.9 MB/s\u001b[0m eta \u001b[36m0:00:00\u001b[0mm eta \u001b[36m0:00:01\u001b[0m00:01\u001b[0m:01\u001b[0m\n",
      "\u001b[?25hCollecting ipympl==0.9.3\n",
      "  Downloading ipympl-0.9.3-py2.py3-none-any.whl (511 kB)\n",
      "\u001b[2K     \u001b[38;2;114;156;31m━━━━━━━━━━━━━━━━━━━━━━━━━━━━━━━━━━━━━━━\u001b[0m \u001b[32m511.6/511.6 kB\u001b[0m \u001b[31m9.5 MB/s\u001b[0m eta \u001b[36m0:00:00\u001b[0m MB/s\u001b[0m eta \u001b[36m0:00:01\u001b[0m\n",
      "\u001b[?25hCollecting ipywidgets==8.0.2\n",
      "  Downloading ipywidgets-8.0.2-py3-none-any.whl (134 kB)\n",
      "\u001b[2K     \u001b[38;2;114;156;31m━━━━━━━━━━━━━━━━━━━━━━━━━━━━━━━━━━━━━━━\u001b[0m \u001b[32m134.4/134.4 kB\u001b[0m \u001b[31m7.0 MB/s\u001b[0m eta \u001b[36m0:00:00\u001b[0m\n",
      "\u001b[?25hCollecting keras==2.11.0\n",
      "  Downloading keras-2.11.0-py2.py3-none-any.whl (1.7 MB)\n",
      "\u001b[2K     \u001b[38;2;114;156;31m━━━━━━━━━━━━━━━━━━━━━━━━━━━━━━━━━━━━━━━━\u001b[0m \u001b[32m1.7/1.7 MB\u001b[0m \u001b[31m8.8 MB/s\u001b[0m eta \u001b[36m0:00:00\u001b[0mm eta \u001b[36m0:00:01\u001b[0m\u001b[36m0:00:01\u001b[0m\n",
      "\u001b[?25hCollecting lightgbm==3.3.2\n",
      "  Downloading lightgbm-3.3.2-py3-none-manylinux1_x86_64.whl (2.0 MB)\n",
      "\u001b[2K     \u001b[38;2;114;156;31m━━━━━━━━━━━━━━━━━━━━━━━━━━━━━━━━━━━━━━━━\u001b[0m \u001b[32m2.0/2.0 MB\u001b[0m \u001b[31m8.3 MB/s\u001b[0m eta \u001b[36m0:00:00\u001b[0m[31m9.1 MB/s\u001b[0m eta \u001b[36m0:00:01\u001b[0mm\n",
      "\u001b[?25hRequirement already satisfied: matplotlib-inline==0.1.6 in /home/twist/.local/lib/python3.9/site-packages (from -r requirements2.txt (line 9)) (0.1.6)\n",
      "Requirement already satisfied: matplotlib==3.5.3 in /usr/local/lib64/python3.9/site-packages (from -r requirements2.txt (line 10)) (3.5.3)\n",
      "Collecting numpy==1.23.4\n",
      "  Downloading numpy-1.23.4-cp39-cp39-manylinux_2_17_x86_64.manylinux2014_x86_64.whl (17.1 MB)\n",
      "\u001b[2K     \u001b[38;2;114;156;31m━━━━━━━━━━━━━━━━━━━━━━━━━━━━━━━━━━━━━━━━\u001b[0m \u001b[32m17.1/17.1 MB\u001b[0m \u001b[31m5.8 MB/s\u001b[0m eta \u001b[36m0:00:00\u001b[0mm eta \u001b[36m0:00:01\u001b[0m[36m0:00:01\u001b[0m\n",
      "\u001b[?25hCollecting pandas==1.5.2\n",
      "  Downloading pandas-1.5.2-cp39-cp39-manylinux_2_17_x86_64.manylinux2014_x86_64.whl (12.2 MB)\n",
      "\u001b[2K     \u001b[38;2;114;156;31m━━━━━━━━━━━━━━━━━━━━━━━━━━━━━━━━━━━━━━━━\u001b[0m \u001b[32m12.2/12.2 MB\u001b[0m \u001b[31m5.9 MB/s\u001b[0m eta \u001b[36m0:00:00\u001b[0mm eta \u001b[36m0:00:01\u001b[0m[36m0:00:01\u001b[0m\n",
      "\u001b[?25hCollecting pep8==1.7.1\n",
      "  Downloading pep8-1.7.1-py2.py3-none-any.whl (41 kB)\n",
      "\u001b[2K     \u001b[38;2;114;156;31m━━━━━━━━━━━━━━━━━━━━━━━━━━━━━━━━━━━━━━━━\u001b[0m \u001b[32m41.5/41.5 kB\u001b[0m \u001b[31m5.0 MB/s\u001b[0m eta \u001b[36m0:00:00\u001b[0m\n",
      "\u001b[?25hCollecting plotly==5.6.0\n",
      "  Downloading plotly-5.6.0-py2.py3-none-any.whl (27.7 MB)\n",
      "\u001b[2K     \u001b[38;2;114;156;31m━━━━━━━━━━━━━━━━━━━━━━━━━━━━━━━━━━━━━━━━\u001b[0m \u001b[32m27.7/27.7 MB\u001b[0m \u001b[31m5.7 MB/s\u001b[0m eta \u001b[36m0:00:00\u001b[0mm eta \u001b[36m0:00:01\u001b[0m[36m0:00:01\u001b[0m\n",
      "\u001b[?25hCollecting pycodestyle==2.9.1\n",
      "  Downloading pycodestyle-2.9.1-py2.py3-none-any.whl (41 kB)\n",
      "\u001b[2K     \u001b[38;2;114;156;31m━━━━━━━━━━━━━━━━━━━━━━━━━━━━━━━━━━━━━━━━\u001b[0m \u001b[32m41.5/41.5 kB\u001b[0m \u001b[31m5.5 MB/s\u001b[0m eta \u001b[36m0:00:00\u001b[0m\n",
      "\u001b[?25hCollecting pytest==7.1.3\n",
      "  Using cached pytest-7.1.3-py3-none-any.whl (298 kB)\n",
      "Collecting scikit-image==0.19\n",
      "  Downloading scikit_image-0.19.0-cp39-cp39-manylinux_2_17_x86_64.manylinux2014_x86_64.whl (59.7 MB)\n",
      "\u001b[2K     \u001b[38;2;114;156;31m━━━━━━━━━━━━━━━━━━━━━━━━━━━━━━━━━━━━━━━━\u001b[0m \u001b[32m59.7/59.7 MB\u001b[0m \u001b[31m4.8 MB/s\u001b[0m eta \u001b[36m0:00:00\u001b[0mm eta \u001b[36m0:00:01\u001b[0m[36m0:00:01\u001b[0m\n",
      "\u001b[?25hRequirement already satisfied: scikit-learn==1.1.3 in /home/twist/.local/lib/python3.9/site-packages (from -r requirements2.txt (line 18)) (1.1.3)\n",
      "Requirement already satisfied: scipy==1.9.3 in /home/twist/.local/lib/python3.9/site-packages (from -r requirements2.txt (line 19)) (1.9.3)\n",
      "Collecting seaborn==0.12.0\n",
      "  Downloading seaborn-0.12.0-py3-none-any.whl (285 kB)\n",
      "\u001b[2K     \u001b[38;2;114;156;31m━━━━━━━━━━━━━━━━━━━━━━━━━━━━━━━━━━━━━━━\u001b[0m \u001b[32m285.1/285.1 kB\u001b[0m \u001b[31m5.6 MB/s\u001b[0m eta \u001b[36m0:00:00\u001b[0m[31m8.1 MB/s\u001b[0m eta \u001b[36m0:00:01\u001b[0m\n",
      "\u001b[?25hCollecting tensorflow==2.11.0\n",
      "  Downloading tensorflow-2.11.0-cp39-cp39-manylinux_2_17_x86_64.manylinux2014_x86_64.whl (588.3 MB)\n",
      "\u001b[2K     \u001b[38;2;114;156;31m━━━━━━━━━━━━━━━━━━━━━━━━━━━━━━━━━━━━━━━\u001b[0m \u001b[32m588.3/588.3 MB\u001b[0m \u001b[31m3.2 MB/s\u001b[0m eta \u001b[36m0:00:00\u001b[0mm eta \u001b[36m0:00:01\u001b[0m[36m0:00:03\u001b[0m\n",
      "\u001b[?25hCollecting torch==1.12.1\n",
      "  Downloading torch-1.12.1-cp39-cp39-manylinux1_x86_64.whl (776.4 MB)\n",
      "\u001b[2K     \u001b[38;2;114;156;31m━━━━━━━━━━━━━━━━━━━━━━━━━━━━━━━━━━━━━━━\u001b[0m \u001b[32m776.4/776.4 MB\u001b[0m \u001b[31m2.2 MB/s\u001b[0m eta \u001b[36m0:00:00\u001b[0mm eta \u001b[36m0:00:01\u001b[0m[36m0:00:05\u001b[0m\n",
      "\u001b[?25hCollecting torchvision==0.13.1\n",
      "  Downloading torchvision-0.13.1-cp39-cp39-manylinux1_x86_64.whl (19.1 MB)\n",
      "\u001b[2K     \u001b[38;2;114;156;31m━━━━━━━━━━━━━━━━━━━━━━━━━━━━━━━━━━━━━━━━\u001b[0m \u001b[32m19.1/19.1 MB\u001b[0m \u001b[31m4.0 MB/s\u001b[0m eta \u001b[36m0:00:00\u001b[0mm eta \u001b[36m0:00:01\u001b[0m[36m0:00:01\u001b[0m\n",
      "\u001b[?25hCollecting tqdm==4.64.1\n",
      "  Downloading tqdm-4.64.1-py2.py3-none-any.whl (78 kB)\n",
      "\u001b[2K     \u001b[38;2;114;156;31m━━━━━━━━━━━━━━━━━━━━━━━━━━━━━━━━━━━━━━━━\u001b[0m \u001b[32m78.5/78.5 kB\u001b[0m \u001b[31m3.5 MB/s\u001b[0m eta \u001b[36m0:00:00\u001b[0m\n",
      "\u001b[?25hCollecting umap-learn==0.5.3\n",
      "  Downloading umap-learn-0.5.3.tar.gz (88 kB)\n",
      "\u001b[2K     \u001b[38;2;114;156;31m━━━━━━━━━━━━━━━━━━━━━━━━━━━━━━━━━━━━━━━━\u001b[0m \u001b[32m88.2/88.2 kB\u001b[0m \u001b[31m3.8 MB/s\u001b[0m eta \u001b[36m0:00:00\u001b[0m\n",
      "\u001b[?25h  Preparing metadata (setup.py) ... \u001b[?25ldone\n",
      "\u001b[?25hCollecting xgboost==1.6.2\n",
      "  Downloading xgboost-1.6.2-py3-none-manylinux2014_x86_64.whl (255.9 MB)\n",
      "\u001b[2K     \u001b[38;2;114;156;31m━━━━━━━━━━━━━━━━━━━━━━━━━━━━━━━━━━━━━━━\u001b[0m \u001b[32m255.9/255.9 MB\u001b[0m \u001b[31m4.4 MB/s\u001b[0m eta \u001b[36m0:00:00\u001b[0mm eta \u001b[36m0:00:01\u001b[0m[36m0:00:02\u001b[0m\n",
      "\u001b[?25hRequirement already satisfied: six in /home/twist/.local/lib/python3.9/site-packages (from catboost==1.0.6->-r requirements2.txt (line 1)) (1.16.0)\n",
      "Collecting graphviz\n",
      "  Downloading graphviz-0.20.1-py3-none-any.whl (47 kB)\n",
      "\u001b[2K     \u001b[38;2;114;156;31m━━━━━━━━━━━━━━━━━━━━━━━━━━━━━━━━━━━━━━━━\u001b[0m \u001b[32m47.0/47.0 kB\u001b[0m \u001b[31m7.1 MB/s\u001b[0m eta \u001b[36m0:00:00\u001b[0m\n",
      "\u001b[?25hRequirement already satisfied: filelock in /home/twist/.local/lib/python3.9/site-packages (from gdown==4.6.4->-r requirements2.txt (line 2)) (3.8.0)\n",
      "Requirement already satisfied: requests[socks] in /home/twist/.local/lib/python3.9/site-packages (from gdown==4.6.4->-r requirements2.txt (line 2)) (2.25.1)\n",
      "Requirement already satisfied: beautifulsoup4 in /home/twist/.local/lib/python3.9/site-packages (from gdown==4.6.4->-r requirements2.txt (line 2)) (4.11.1)\n",
      "Collecting networkx>=2.2\n",
      "  Downloading networkx-3.1-py3-none-any.whl (2.1 MB)\n",
      "\u001b[2K     \u001b[38;2;114;156;31m━━━━━━━━━━━━━━━━━━━━━━━━━━━━━━━━━━━━━━━━\u001b[0m \u001b[32m2.1/2.1 MB\u001b[0m \u001b[31m3.2 MB/s\u001b[0m eta \u001b[36m0:00:00\u001b[0mm eta \u001b[36m0:00:01\u001b[0m[36m0:00:01\u001b[0m\n",
      "\u001b[?25hCollecting py4j\n",
      "  Downloading py4j-0.10.9.7-py2.py3-none-any.whl (200 kB)\n",
      "\u001b[2K     \u001b[38;2;114;156;31m━━━━━━━━━━━━━━━━━━━━━━━━━━━━━━━━━━━━━━━\u001b[0m \u001b[32m200.5/200.5 kB\u001b[0m \u001b[31m7.7 MB/s\u001b[0m eta \u001b[36m0:00:00\u001b[0m\n",
      "\u001b[?25hCollecting cloudpickle\n",
      "  Downloading cloudpickle-2.2.1-py3-none-any.whl (25 kB)\n",
      "Collecting future\n",
      "  Downloading future-0.18.3.tar.gz (840 kB)\n",
      "\u001b[2K     \u001b[38;2;114;156;31m━━━━━━━━━━━━━━━━━━━━━━━━━━━━━━━━━━━━━━━\u001b[0m \u001b[32m840.9/840.9 kB\u001b[0m \u001b[31m9.5 MB/s\u001b[0m eta \u001b[36m0:00:00\u001b[0m MB/s\u001b[0m eta \u001b[36m0:00:01\u001b[0m\n",
      "\u001b[?25h  Preparing metadata (setup.py) ... \u001b[?25ldone\n",
      "\u001b[?25hRequirement already satisfied: ipython<9 in /home/twist/.local/lib/python3.9/site-packages (from ipympl==0.9.3->-r requirements2.txt (line 5)) (8.5.0)\n",
      "Requirement already satisfied: ipython-genutils in /home/twist/.local/lib/python3.9/site-packages (from ipympl==0.9.3->-r requirements2.txt (line 5)) (0.2.0)\n",
      "Requirement already satisfied: traitlets<6 in /home/twist/.local/lib/python3.9/site-packages (from ipympl==0.9.3->-r requirements2.txt (line 5)) (5.4.0)\n",
      "Requirement already satisfied: pillow in /home/twist/.local/lib/python3.9/site-packages (from ipympl==0.9.3->-r requirements2.txt (line 5)) (9.2.0)\n",
      "Requirement already satisfied: ipykernel>=4.5.1 in /home/twist/.local/lib/python3.9/site-packages (from ipywidgets==8.0.2->-r requirements2.txt (line 6)) (6.15.3)\n",
      "Collecting widgetsnbextension~=4.0\n",
      "  Downloading widgetsnbextension-4.0.7-py3-none-any.whl (2.1 MB)\n",
      "\u001b[2K     \u001b[38;2;114;156;31m━━━━━━━━━━━━━━━━━━━━━━━━━━━━━━━━━━━━━━━━\u001b[0m \u001b[32m2.1/2.1 MB\u001b[0m \u001b[31m8.0 MB/s\u001b[0m eta \u001b[36m0:00:00\u001b[0mm eta \u001b[36m0:00:01\u001b[0m0:01\u001b[0m0:01\u001b[0m\n",
      "\u001b[?25hCollecting jupyterlab-widgets~=3.0\n",
      "  Downloading jupyterlab_widgets-3.0.7-py3-none-any.whl (198 kB)\n",
      "\u001b[2K     \u001b[38;2;114;156;31m━━━━━━━━━━━━━━━━━━━━━━━━━━━━━━━━━━━━━━━\u001b[0m \u001b[32m198.2/198.2 kB\u001b[0m \u001b[31m7.2 MB/s\u001b[0m eta \u001b[36m0:00:00\u001b[0m\n",
      "\u001b[?25hCollecting wheel\n",
      "  Downloading wheel-0.40.0-py3-none-any.whl (64 kB)\n",
      "\u001b[2K     \u001b[38;2;114;156;31m━━━━━━━━━━━━━━━━━━━━━━━━━━━━━━━━━━━━━━━━\u001b[0m \u001b[32m64.5/64.5 kB\u001b[0m \u001b[31m5.8 MB/s\u001b[0m eta \u001b[36m0:00:00\u001b[0m\n",
      "\u001b[?25hRequirement already satisfied: pyparsing>=2.2.1 in /home/twist/.local/lib/python3.9/site-packages (from matplotlib==3.5.3->-r requirements2.txt (line 10)) (3.0.9)\n",
      "Requirement already satisfied: fonttools>=4.22.0 in /usr/local/lib/python3.9/site-packages (from matplotlib==3.5.3->-r requirements2.txt (line 10)) (4.36.0)\n",
      "Requirement already satisfied: cycler>=0.10 in /usr/local/lib/python3.9/site-packages (from matplotlib==3.5.3->-r requirements2.txt (line 10)) (0.11.0)\n",
      "Requirement already satisfied: kiwisolver>=1.0.1 in /usr/local/lib64/python3.9/site-packages (from matplotlib==3.5.3->-r requirements2.txt (line 10)) (1.4.4)\n",
      "Requirement already satisfied: python-dateutil>=2.7 in /usr/local/lib/python3.9/site-packages (from matplotlib==3.5.3->-r requirements2.txt (line 10)) (2.8.2)\n",
      "Requirement already satisfied: packaging>=20.0 in /home/twist/.local/lib/python3.9/site-packages (from matplotlib==3.5.3->-r requirements2.txt (line 10)) (21.3)\n",
      "Requirement already satisfied: pytz>=2020.1 in /home/twist/.local/lib/python3.9/site-packages (from pandas==1.5.2->-r requirements2.txt (line 12)) (2021.3)\n",
      "Collecting tenacity>=6.2.0\n",
      "  Downloading tenacity-8.2.2-py3-none-any.whl (24 kB)\n",
      "Requirement already satisfied: pluggy<2.0,>=0.12 in /home/twist/.local/lib/python3.9/site-packages (from pytest==7.1.3->-r requirements2.txt (line 16)) (1.0.0)\n",
      "Requirement already satisfied: iniconfig in /home/twist/.local/lib/python3.9/site-packages (from pytest==7.1.3->-r requirements2.txt (line 16)) (1.1.1)\n",
      "Requirement already satisfied: py>=1.8.2 in /home/twist/.local/lib/python3.9/site-packages (from pytest==7.1.3->-r requirements2.txt (line 16)) (1.11.0)\n",
      "Requirement already satisfied: tomli>=1.0.0 in /home/twist/.local/lib/python3.9/site-packages (from pytest==7.1.3->-r requirements2.txt (line 16)) (2.0.1)\n",
      "Requirement already satisfied: attrs>=19.2.0 in /home/twist/.local/lib/python3.9/site-packages (from pytest==7.1.3->-r requirements2.txt (line 16)) (22.1.0)\n",
      "Collecting PyWavelets>=1.1.1\n",
      "  Downloading PyWavelets-1.4.1-cp39-cp39-manylinux_2_17_x86_64.manylinux2014_x86_64.whl (6.9 MB)\n",
      "\u001b[2K     \u001b[38;2;114;156;31m━━━━━━━━━━━━━━━━━━━━━━━━━━━━━━━━━━━━━━━━\u001b[0m \u001b[32m6.9/6.9 MB\u001b[0m \u001b[31m6.5 MB/s\u001b[0m eta \u001b[36m0:00:00\u001b[0mm eta \u001b[36m0:00:01\u001b[0m[36m0:00:01\u001b[0mm\n",
      "\u001b[?25hCollecting tifffile>=2019.7.26\n",
      "  Downloading tifffile-2023.3.21-py3-none-any.whl (218 kB)\n",
      "\u001b[2K     \u001b[38;2;114;156;31m━━━━━━━━━━━━━━━━━━━━━━━━━━━━━━━━━━━━━━━\u001b[0m \u001b[32m218.7/218.7 kB\u001b[0m \u001b[31m6.5 MB/s\u001b[0m eta \u001b[36m0:00:00\u001b[0m\n",
      "\u001b[?25hCollecting imageio>=2.4.1\n",
      "  Downloading imageio-2.27.0-py3-none-any.whl (3.4 MB)\n",
      "\u001b[2K     \u001b[38;2;114;156;31m━━━━━━━━━━━━━━━━━━━━━━━━━━━━━━━━━━━━━━━━\u001b[0m \u001b[32m3.4/3.4 MB\u001b[0m \u001b[31m7.1 MB/s\u001b[0m eta \u001b[36m0:00:00\u001b[0mm eta \u001b[36m0:00:01\u001b[0m0:01\u001b[0m:01\u001b[0mm\n",
      "\u001b[?25hRequirement already satisfied: threadpoolctl>=2.0.0 in /home/twist/.local/lib/python3.9/site-packages (from scikit-learn==1.1.3->-r requirements2.txt (line 18)) (3.1.0)\n",
      "Requirement already satisfied: joblib>=1.0.0 in /home/twist/.local/lib/python3.9/site-packages (from scikit-learn==1.1.3->-r requirements2.txt (line 18)) (1.2.0)\n",
      "Collecting grpcio<2.0,>=1.24.3\n",
      "  Downloading grpcio-1.53.0-cp39-cp39-manylinux_2_17_x86_64.manylinux2014_x86_64.whl (5.0 MB)\n",
      "\u001b[2K     \u001b[38;2;114;156;31m━━━━━━━━━━━━━━━━━━━━━━━━━━━━━━━━━━━━━━━━\u001b[0m \u001b[32m5.0/5.0 MB\u001b[0m \u001b[31m6.8 MB/s\u001b[0m eta \u001b[36m0:00:00\u001b[0m[36m0:00:01\u001b[0mm eta \u001b[36m0:00:01\u001b[0mm\n",
      "\u001b[?25hCollecting gast<=0.4.0,>=0.2.1\n",
      "  Downloading gast-0.4.0-py3-none-any.whl (9.8 kB)\n",
      "Requirement already satisfied: setuptools in /usr/local/lib/python3.9/site-packages (from tensorflow==2.11.0->-r requirements2.txt (line 21)) (65.0.0)\n",
      "Collecting tensorflow-io-gcs-filesystem>=0.23.1\n",
      "  Downloading tensorflow_io_gcs_filesystem-0.32.0-cp39-cp39-manylinux_2_12_x86_64.manylinux2010_x86_64.whl (2.4 MB)\n",
      "\u001b[2K     \u001b[38;2;114;156;31m━━━━━━━━━━━━━━━━━━━━━━━━━━━━━━━━━━━━━━━━\u001b[0m \u001b[32m2.4/2.4 MB\u001b[0m \u001b[31m7.9 MB/s\u001b[0m eta \u001b[36m0:00:00\u001b[0m[36m0:00:01\u001b[0mm eta \u001b[36m0:00:01\u001b[0mm\n",
      "\u001b[?25hCollecting protobuf<3.20,>=3.9.2\n",
      "  Downloading protobuf-3.19.6-cp39-cp39-manylinux_2_17_x86_64.manylinux2014_x86_64.whl (1.1 MB)\n",
      "\u001b[2K     \u001b[38;2;114;156;31m━━━━━━━━━━━━━━━━━━━━━━━━━━━━━━━━━━━━━━━━\u001b[0m \u001b[32m1.1/1.1 MB\u001b[0m \u001b[31m8.3 MB/s\u001b[0m eta \u001b[36m0:00:00\u001b[0m MB/s\u001b[0m eta \u001b[36m0:00:01\u001b[0m:01\u001b[0m\n",
      "\u001b[?25hCollecting flatbuffers>=2.0\n",
      "  Downloading flatbuffers-23.3.3-py2.py3-none-any.whl (26 kB)\n",
      "Requirement already satisfied: typing-extensions>=3.6.6 in /home/twist/.local/lib/python3.9/site-packages (from tensorflow==2.11.0->-r requirements2.txt (line 21)) (4.3.0)\n",
      "Collecting astunparse>=1.6.0\n",
      "  Downloading astunparse-1.6.3-py2.py3-none-any.whl (12 kB)\n",
      "Collecting absl-py>=1.0.0\n",
      "  Downloading absl_py-1.4.0-py3-none-any.whl (126 kB)\n",
      "\u001b[2K     \u001b[38;2;114;156;31m━━━━━━━━━━━━━━━━━━━━━━━━━━━━━━━━━━━━━━━\u001b[0m \u001b[32m126.5/126.5 kB\u001b[0m \u001b[31m9.2 MB/s\u001b[0m eta \u001b[36m0:00:00\u001b[0m\n",
      "\u001b[?25hCollecting opt-einsum>=2.3.2\n",
      "  Downloading opt_einsum-3.3.0-py3-none-any.whl (65 kB)\n",
      "\u001b[2K     \u001b[38;2;114;156;31m━━━━━━━━━━━━━━━━━━━━━━━━━━━━━━━━━━━━━━━━\u001b[0m \u001b[32m65.5/65.5 kB\u001b[0m \u001b[31m5.8 MB/s\u001b[0m eta \u001b[36m0:00:00\u001b[0m\n",
      "\u001b[?25hCollecting google-pasta>=0.1.1\n",
      "  Downloading google_pasta-0.2.0-py3-none-any.whl (57 kB)\n",
      "\u001b[2K     \u001b[38;2;114;156;31m━━━━━━━━━━━━━━━━━━━━━━━━━━━━━━━━━━━━━━━━\u001b[0m \u001b[32m57.5/57.5 kB\u001b[0m \u001b[31m5.5 MB/s\u001b[0m eta \u001b[36m0:00:00\u001b[0m\n",
      "\u001b[?25hCollecting libclang>=13.0.0\n",
      "  Downloading libclang-16.0.0-py2.py3-none-manylinux2010_x86_64.whl (22.9 MB)\n",
      "\u001b[2K     \u001b[38;2;114;156;31m━━━━━━━━━━━━━━━━━━━━━━━━━━━━━━━━━━━━━━━━\u001b[0m \u001b[32m22.9/22.9 MB\u001b[0m \u001b[31m5.8 MB/s\u001b[0m eta \u001b[36m0:00:00\u001b[0mm eta \u001b[36m0:00:01\u001b[0m[36m0:00:01\u001b[0m\n",
      "\u001b[?25hCollecting tensorboard<2.12,>=2.11\n",
      "  Downloading tensorboard-2.11.2-py3-none-any.whl (6.0 MB)\n",
      "\u001b[2K     \u001b[38;2;114;156;31m━━━━━━━━━━━━━━━━━━━━━━━━━━━━━━━━━━━━━━━━\u001b[0m \u001b[32m6.0/6.0 MB\u001b[0m \u001b[31m6.5 MB/s\u001b[0m eta \u001b[36m0:00:00\u001b[0mm eta \u001b[36m0:00:01\u001b[0m0:01\u001b[0m:01\u001b[0m\n",
      "\u001b[?25hCollecting tensorflow-estimator<2.12,>=2.11.0\n",
      "  Downloading tensorflow_estimator-2.11.0-py2.py3-none-any.whl (439 kB)\n",
      "\u001b[2K     \u001b[38;2;114;156;31m━━━━━━━━━━━━━━━━━━━━━━━━━━━━━━━━━━━━━━━\u001b[0m \u001b[32m439.2/439.2 kB\u001b[0m \u001b[31m6.6 MB/s\u001b[0m eta \u001b[36m0:00:00\u001b[0m[31m7.6 MB/s\u001b[0m eta \u001b[36m0:00:01\u001b[0m\n",
      "\u001b[?25hCollecting wrapt>=1.11.0\n",
      "  Downloading wrapt-1.15.0-cp39-cp39-manylinux_2_5_x86_64.manylinux1_x86_64.manylinux_2_17_x86_64.manylinux2014_x86_64.whl (78 kB)\n",
      "\u001b[2K     \u001b[38;2;114;156;31m━━━━━━━━━━━━━━━━━━━━━━━━━━━━━━━━━━━━━━━━\u001b[0m \u001b[32m78.3/78.3 kB\u001b[0m \u001b[31m3.8 MB/s\u001b[0m eta \u001b[36m0:00:00\u001b[0m\n",
      "\u001b[?25hCollecting termcolor>=1.1.0\n",
      "  Downloading termcolor-2.2.0-py3-none-any.whl (6.6 kB)\n",
      "Collecting numba>=0.49\n",
      "  Downloading numba-0.56.4-cp39-cp39-manylinux2014_x86_64.manylinux_2_17_x86_64.whl (3.5 MB)\n",
      "\u001b[2K     \u001b[38;2;114;156;31m━━━━━━━━━━━━━━━━━━━━━━━━━━━━━━━━━━━━━━━━\u001b[0m \u001b[32m3.5/3.5 MB\u001b[0m \u001b[31m7.0 MB/s\u001b[0m eta \u001b[36m0:00:00\u001b[0mm eta \u001b[36m0:00:01\u001b[0m0:01\u001b[0m:01\u001b[0mm\n",
      "\u001b[?25hCollecting pynndescent>=0.5\n",
      "  Downloading pynndescent-0.5.8.tar.gz (1.1 MB)\n",
      "\u001b[2K     \u001b[38;2;114;156;31m━━━━━━━━━━━━━━━━━━━━━━━━━━━━━━━━━━━━━━━━\u001b[0m \u001b[32m1.1/1.1 MB\u001b[0m \u001b[31m9.1 MB/s\u001b[0m eta \u001b[36m0:00:00\u001b[0m[31m10.1 MB/s\u001b[0m eta \u001b[36m0:00:01\u001b[0m\n",
      "\u001b[?25h  Preparing metadata (setup.py) ... \u001b[?25ldone\n",
      "\u001b[?25hRequirement already satisfied: jupyter-client>=6.1.12 in /home/twist/.local/lib/python3.9/site-packages (from ipykernel>=4.5.1->ipywidgets==8.0.2->-r requirements2.txt (line 6)) (7.3.5)\n",
      "Requirement already satisfied: debugpy>=1.0 in /home/twist/.local/lib/python3.9/site-packages (from ipykernel>=4.5.1->ipywidgets==8.0.2->-r requirements2.txt (line 6)) (1.6.3)\n",
      "Requirement already satisfied: nest-asyncio in /home/twist/.local/lib/python3.9/site-packages (from ipykernel>=4.5.1->ipywidgets==8.0.2->-r requirements2.txt (line 6)) (1.5.5)\n",
      "Requirement already satisfied: psutil in /home/twist/.local/lib/python3.9/site-packages (from ipykernel>=4.5.1->ipywidgets==8.0.2->-r requirements2.txt (line 6)) (5.9.2)\n",
      "Requirement already satisfied: pyzmq>=17 in /home/twist/.local/lib/python3.9/site-packages (from ipykernel>=4.5.1->ipywidgets==8.0.2->-r requirements2.txt (line 6)) (23.2.1)\n",
      "Requirement already satisfied: tornado>=6.1 in /home/twist/.local/lib/python3.9/site-packages (from ipykernel>=4.5.1->ipywidgets==8.0.2->-r requirements2.txt (line 6)) (6.2)\n",
      "Requirement already satisfied: jedi>=0.16 in /home/twist/.local/lib/python3.9/site-packages (from ipython<9->ipympl==0.9.3->-r requirements2.txt (line 5)) (0.18.1)\n",
      "Requirement already satisfied: decorator in /home/twist/.local/lib/python3.9/site-packages (from ipython<9->ipympl==0.9.3->-r requirements2.txt (line 5)) (5.1.1)\n",
      "Requirement already satisfied: pexpect>4.3 in /home/twist/.local/lib/python3.9/site-packages (from ipython<9->ipympl==0.9.3->-r requirements2.txt (line 5)) (4.8.0)\n",
      "Requirement already satisfied: prompt-toolkit<3.1.0,>3.0.1 in /home/twist/.local/lib/python3.9/site-packages (from ipython<9->ipympl==0.9.3->-r requirements2.txt (line 5)) (3.0.31)\n",
      "Requirement already satisfied: stack-data in /home/twist/.local/lib/python3.9/site-packages (from ipython<9->ipympl==0.9.3->-r requirements2.txt (line 5)) (0.5.0)\n",
      "Requirement already satisfied: pickleshare in /home/twist/.local/lib/python3.9/site-packages (from ipython<9->ipympl==0.9.3->-r requirements2.txt (line 5)) (0.7.5)\n",
      "Requirement already satisfied: backcall in /home/twist/.local/lib/python3.9/site-packages (from ipython<9->ipympl==0.9.3->-r requirements2.txt (line 5)) (0.2.0)\n",
      "Requirement already satisfied: pygments>=2.4.0 in /home/twist/.local/lib/python3.9/site-packages (from ipython<9->ipympl==0.9.3->-r requirements2.txt (line 5)) (2.13.0)\n",
      "Collecting llvmlite<0.40,>=0.39.0dev0\n",
      "  Downloading llvmlite-0.39.1-cp39-cp39-manylinux_2_17_x86_64.manylinux2014_x86_64.whl (34.6 MB)\n",
      "\u001b[2K     \u001b[38;2;114;156;31m━━━━━━━━━━━━━━━━━━━━━━━━━━━━━━━━━━━━━━━━\u001b[0m \u001b[32m34.6/34.6 MB\u001b[0m \u001b[31m5.6 MB/s\u001b[0m eta \u001b[36m0:00:00\u001b[0mm eta \u001b[36m0:00:01\u001b[0m[36m0:00:01\u001b[0m\n",
      "\u001b[?25hCollecting markdown>=2.6.8\n",
      "  Downloading Markdown-3.4.3-py3-none-any.whl (93 kB)\n",
      "\u001b[2K     \u001b[38;2;114;156;31m━━━━━━━━━━━━━━━━━━━━━━━━━━━━━━━━━━━━━━━━\u001b[0m \u001b[32m93.9/93.9 kB\u001b[0m \u001b[31m4.7 MB/s\u001b[0m eta \u001b[36m0:00:00\u001b[0m\n",
      "\u001b[?25hCollecting google-auth<3,>=1.6.3\n",
      "  Downloading google_auth-2.17.2-py2.py3-none-any.whl (178 kB)\n",
      "\u001b[2K     \u001b[38;2;114;156;31m━━━━━━━━━━━━━━━━━━━━━━━━━━━━━━━━━━━━━━━\u001b[0m \u001b[32m178.2/178.2 kB\u001b[0m \u001b[31m6.4 MB/s\u001b[0m eta \u001b[36m0:00:00\u001b[0m\n",
      "\u001b[?25hCollecting tensorboard-data-server<0.7.0,>=0.6.0\n",
      "  Downloading tensorboard_data_server-0.6.1-py3-none-manylinux2010_x86_64.whl (4.9 MB)\n",
      "\u001b[2K     \u001b[38;2;114;156;31m━━━━━━━━━━━━━━━━━━━━━━━━━━━━━━━━━━━━━━━━\u001b[0m \u001b[32m4.9/4.9 MB\u001b[0m \u001b[31m6.7 MB/s\u001b[0m eta \u001b[36m0:00:00\u001b[0mm eta \u001b[36m0:00:01\u001b[0m0:01\u001b[0m:01\u001b[0mm\n",
      "\u001b[?25hCollecting google-auth-oauthlib<0.5,>=0.4.1\n",
      "  Downloading google_auth_oauthlib-0.4.6-py2.py3-none-any.whl (18 kB)\n",
      "Collecting tensorboard-plugin-wit>=1.6.0\n",
      "  Downloading tensorboard_plugin_wit-1.8.1-py3-none-any.whl (781 kB)\n",
      "\u001b[2K     \u001b[38;2;114;156;31m━━━━━━━━━━━━━━━━━━━━━━━━━━━━━━━━━━━━━━━\u001b[0m \u001b[32m781.3/781.3 kB\u001b[0m \u001b[31m9.1 MB/s\u001b[0m eta \u001b[36m0:00:00\u001b[0m31m11.1 MB/s\u001b[0m eta \u001b[36m0:00:01\u001b[0m\n",
      "\u001b[?25hRequirement already satisfied: werkzeug>=1.0.1 in /home/twist/.local/lib/python3.9/site-packages (from tensorboard<2.12,>=2.11->tensorflow==2.11.0->-r requirements2.txt (line 21)) (2.1.2)\n",
      "Requirement already satisfied: certifi>=2017.4.17 in /home/twist/.local/lib/python3.9/site-packages (from requests[socks]->gdown==4.6.4->-r requirements2.txt (line 2)) (2022.6.15)\n",
      "Requirement already satisfied: chardet<5,>=3.0.2 in /home/twist/.local/lib/python3.9/site-packages (from requests[socks]->gdown==4.6.4->-r requirements2.txt (line 2)) (4.0.0)\n",
      "Requirement already satisfied: idna<3,>=2.5 in /home/twist/.local/lib/python3.9/site-packages (from requests[socks]->gdown==4.6.4->-r requirements2.txt (line 2)) (2.10)\n",
      "Requirement already satisfied: urllib3<1.27,>=1.21.1 in /home/twist/.local/lib/python3.9/site-packages (from requests[socks]->gdown==4.6.4->-r requirements2.txt (line 2)) (1.26.11)\n",
      "Requirement already satisfied: soupsieve>1.2 in /home/twist/.local/lib/python3.9/site-packages (from beautifulsoup4->gdown==4.6.4->-r requirements2.txt (line 2)) (2.3.2.post1)\n",
      "Requirement already satisfied: PySocks!=1.5.7,>=1.5.6 in /home/twist/.local/lib/python3.9/site-packages (from requests[socks]->gdown==4.6.4->-r requirements2.txt (line 2)) (1.7.1)\n",
      "Collecting cachetools<6.0,>=2.0.0\n",
      "  Downloading cachetools-5.3.0-py3-none-any.whl (9.3 kB)\n",
      "Collecting rsa<5,>=3.1.4\n",
      "  Downloading rsa-4.9-py3-none-any.whl (34 kB)\n",
      "Collecting pyasn1-modules>=0.2.1\n",
      "  Downloading pyasn1_modules-0.2.8-py2.py3-none-any.whl (155 kB)\n",
      "\u001b[2K     \u001b[38;2;114;156;31m━━━━━━━━━━━━━━━━━━━━━━━━━━━━━━━━━━━━━━━\u001b[0m \u001b[32m155.3/155.3 kB\u001b[0m \u001b[31m9.5 MB/s\u001b[0m eta \u001b[36m0:00:00\u001b[0m\n",
      "\u001b[?25hRequirement already satisfied: requests-oauthlib>=0.7.0 in /home/twist/.local/lib/python3.9/site-packages (from google-auth-oauthlib<0.5,>=0.4.1->tensorboard<2.12,>=2.11->tensorflow==2.11.0->-r requirements2.txt (line 21)) (1.3.1)\n",
      "Requirement already satisfied: parso<0.9.0,>=0.8.0 in /home/twist/.local/lib/python3.9/site-packages (from jedi>=0.16->ipython<9->ipympl==0.9.3->-r requirements2.txt (line 5)) (0.8.3)\n",
      "Requirement already satisfied: jupyter-core>=4.9.2 in /home/twist/.local/lib/python3.9/site-packages (from jupyter-client>=6.1.12->ipykernel>=4.5.1->ipywidgets==8.0.2->-r requirements2.txt (line 6)) (4.11.1)\n",
      "Requirement already satisfied: entrypoints in /home/twist/.local/lib/python3.9/site-packages (from jupyter-client>=6.1.12->ipykernel>=4.5.1->ipywidgets==8.0.2->-r requirements2.txt (line 6)) (0.4)\n",
      "Requirement already satisfied: importlib-metadata>=4.4 in /home/twist/.local/lib/python3.9/site-packages (from markdown>=2.6.8->tensorboard<2.12,>=2.11->tensorflow==2.11.0->-r requirements2.txt (line 21)) (4.12.0)\n",
      "Requirement already satisfied: ptyprocess>=0.5 in /home/twist/.local/lib/python3.9/site-packages (from pexpect>4.3->ipython<9->ipympl==0.9.3->-r requirements2.txt (line 5)) (0.7.0)\n",
      "Requirement already satisfied: wcwidth in /home/twist/.local/lib/python3.9/site-packages (from prompt-toolkit<3.1.0,>3.0.1->ipython<9->ipympl==0.9.3->-r requirements2.txt (line 5)) (0.2.5)\n",
      "Requirement already satisfied: pure-eval in /home/twist/.local/lib/python3.9/site-packages (from stack-data->ipython<9->ipympl==0.9.3->-r requirements2.txt (line 5)) (0.2.2)\n",
      "Requirement already satisfied: asttokens in /home/twist/.local/lib/python3.9/site-packages (from stack-data->ipython<9->ipympl==0.9.3->-r requirements2.txt (line 5)) (2.0.8)\n",
      "Requirement already satisfied: executing in /home/twist/.local/lib/python3.9/site-packages (from stack-data->ipython<9->ipympl==0.9.3->-r requirements2.txt (line 5)) (1.0.0)\n",
      "Requirement already satisfied: zipp>=0.5 in /home/twist/.local/lib/python3.9/site-packages (from importlib-metadata>=4.4->markdown>=2.6.8->tensorboard<2.12,>=2.11->tensorflow==2.11.0->-r requirements2.txt (line 21)) (3.8.1)\n",
      "Requirement already satisfied: pyasn1<0.5.0,>=0.4.6 in /home/twist/.local/lib/python3.9/site-packages (from pyasn1-modules>=0.2.1->google-auth<3,>=1.6.3->tensorboard<2.12,>=2.11->tensorflow==2.11.0->-r requirements2.txt (line 21)) (0.4.8)\n",
      "Requirement already satisfied: oauthlib>=3.0.0 in /home/twist/.local/lib/python3.9/site-packages (from requests-oauthlib>=0.7.0->google-auth-oauthlib<0.5,>=0.4.1->tensorboard<2.12,>=2.11->tensorflow==2.11.0->-r requirements2.txt (line 21)) (3.2.0)\n",
      "Using legacy 'setup.py install' for umap-learn, since package 'wheel' is not installed.\n",
      "Using legacy 'setup.py install' for pynndescent, since package 'wheel' is not installed.\n",
      "Using legacy 'setup.py install' for future, since package 'wheel' is not installed.\n",
      "Installing collected packages: tensorboard-plugin-wit, py4j, pep8, libclang, flatbuffers, wrapt, widgetsnbextension, wheel, tqdm, torch, termcolor, tensorflow-io-gcs-filesystem, tensorflow-estimator, tensorboard-data-server, tenacity, rsa, pycodestyle, pyasn1-modules, protobuf, numpy, networkx, llvmlite, keras, jupyterlab-widgets, grpcio, graphviz, google-pasta, gast, future, cloudpickle, cachetools, absl-py, torchvision, tifffile, PyWavelets, pytest, plotly, pandas, opt-einsum, numba, markdown, imageio, h5py, google-auth, astunparse, xgboost, seaborn, scikit-image, hyperopt, google-auth-oauthlib, gdown, catboost, tensorboard, pynndescent, lightgbm, umap-learn, tensorflow, ipywidgets, ipympl\n",
      "  Attempting uninstall: tqdm\n",
      "    Found existing installation: tqdm 4.65.0\n",
      "    Uninstalling tqdm-4.65.0:\n",
      "      Successfully uninstalled tqdm-4.65.0\n",
      "  Attempting uninstall: numpy\n",
      "    Found existing installation: numpy 1.23.2\n",
      "    Uninstalling numpy-1.23.2:\n",
      "      Successfully uninstalled numpy-1.23.2\n",
      "  Running setup.py install for future ... \u001b[?25ldone\n",
      "\u001b[?25h  Attempting uninstall: pytest\n",
      "    Found existing installation: pytest 7.2.0\n",
      "    Uninstalling pytest-7.2.0:\n",
      "      Successfully uninstalled pytest-7.2.0\n",
      "  Attempting uninstall: pandas\n",
      "    Found existing installation: pandas 1.5.1\n",
      "    Uninstalling pandas-1.5.1:\n",
      "      Successfully uninstalled pandas-1.5.1\n",
      "  Attempting uninstall: seaborn\n",
      "    Found existing installation: seaborn 0.12.1\n",
      "    Uninstalling seaborn-0.12.1:\n",
      "      Successfully uninstalled seaborn-0.12.1\n",
      "  Attempting uninstall: gdown\n",
      "    Found existing installation: gdown 4.7.1\n",
      "    Uninstalling gdown-4.7.1:\n",
      "      Successfully uninstalled gdown-4.7.1\n",
      "  Running setup.py install for pynndescent ... \u001b[?25ldone\n",
      "\u001b[?25h  Running setup.py install for umap-learn ... \u001b[?25ldone\n",
      "\u001b[?25hSuccessfully installed PyWavelets-1.4.1 absl-py-1.4.0 astunparse-1.6.3 cachetools-5.3.0 catboost-1.0.6 cloudpickle-2.2.1 flatbuffers-23.3.3 future-0.18.3 gast-0.4.0 gdown-4.6.4 google-auth-2.17.2 google-auth-oauthlib-0.4.6 google-pasta-0.2.0 graphviz-0.20.1 grpcio-1.53.0 h5py-3.7.0 hyperopt-0.2.7 imageio-2.27.0 ipympl-0.9.3 ipywidgets-8.0.2 jupyterlab-widgets-3.0.7 keras-2.11.0 libclang-16.0.0 lightgbm-3.3.2 llvmlite-0.39.1 markdown-3.4.3 networkx-3.1 numba-0.56.4 numpy-1.23.4 opt-einsum-3.3.0 pandas-1.5.2 pep8-1.7.1 plotly-5.6.0 protobuf-3.19.6 py4j-0.10.9.7 pyasn1-modules-0.2.8 pycodestyle-2.9.1 pynndescent-0.5.8 pytest-7.1.3 rsa-4.9 scikit-image-0.19.0 seaborn-0.12.0 tenacity-8.2.2 tensorboard-2.11.2 tensorboard-data-server-0.6.1 tensorboard-plugin-wit-1.8.1 tensorflow-2.11.0 tensorflow-estimator-2.11.0 tensorflow-io-gcs-filesystem-0.32.0 termcolor-2.2.0 tifffile-2023.3.21 torch-1.12.1 torchvision-0.13.1 tqdm-4.64.1 umap-learn-0.5.3 wheel-0.40.0 widgetsnbextension-4.0.7 wrapt-1.15.0 xgboost-1.6.2\n",
      "--- Logging error ---\n",
      "Traceback (most recent call last):\n",
      "  File \"/usr/local/lib/python3.9/site-packages/pip/_internal/utils/logging.py\", line 177, in emit\n",
      "    self.console.print(renderable, overflow=\"ignore\", crop=False, style=style)\n",
      "  File \"/usr/local/lib/python3.9/site-packages/pip/_vendor/rich/console.py\", line 1673, in print\n",
      "    extend(render(renderable, render_options))\n",
      "  File \"/usr/local/lib/python3.9/site-packages/pip/_vendor/rich/console.py\", line 1305, in render\n",
      "    for render_output in iter_render:\n",
      "  File \"/usr/local/lib/python3.9/site-packages/pip/_internal/utils/logging.py\", line 134, in __rich_console__\n",
      "    for line in lines:\n",
      "  File \"/usr/local/lib/python3.9/site-packages/pip/_vendor/rich/segment.py\", line 249, in split_lines\n",
      "    for segment in segments:\n",
      "  File \"/usr/local/lib/python3.9/site-packages/pip/_vendor/rich/console.py\", line 1283, in render\n",
      "    renderable = rich_cast(renderable)\n",
      "  File \"/usr/local/lib/python3.9/site-packages/pip/_vendor/rich/protocol.py\", line 36, in rich_cast\n",
      "    renderable = cast_method()\n",
      "  File \"/usr/local/lib/python3.9/site-packages/pip/_internal/self_outdated_check.py\", line 130, in __rich__\n",
      "    pip_cmd = get_best_invocation_for_this_pip()\n",
      "  File \"/usr/local/lib/python3.9/site-packages/pip/_internal/utils/entrypoints.py\", line 58, in get_best_invocation_for_this_pip\n",
      "    if found_executable and os.path.samefile(\n",
      "  File \"/usr/lib64/python3.9/genericpath.py\", line 101, in samefile\n",
      "    s2 = os.stat(f2)\n",
      "FileNotFoundError: [Errno 2] Нет такого файла или каталога: '/usr/bin/pip3.9'\n",
      "Call stack:\n",
      "  File \"/usr/local/bin/pip\", line 8, in <module>\n",
      "    sys.exit(main())\n",
      "  File \"/usr/local/lib/python3.9/site-packages/pip/_internal/cli/main.py\", line 70, in main\n",
      "    return command.main(cmd_args)\n",
      "  File \"/usr/local/lib/python3.9/site-packages/pip/_internal/cli/base_command.py\", line 101, in main\n",
      "    return self._main(args)\n",
      "  File \"/usr/local/lib/python3.9/site-packages/pip/_internal/cli/base_command.py\", line 223, in _main\n",
      "    self.handle_pip_version_check(options)\n",
      "  File \"/usr/local/lib/python3.9/site-packages/pip/_internal/cli/req_command.py\", line 190, in handle_pip_version_check\n",
      "    pip_self_version_check(session, options)\n",
      "  File \"/usr/local/lib/python3.9/site-packages/pip/_internal/self_outdated_check.py\", line 236, in pip_self_version_check\n",
      "    logger.warning(\"[present-rich] %s\", upgrade_prompt)\n",
      "  File \"/usr/lib64/python3.9/logging/__init__.py\", line 1458, in warning\n",
      "    self._log(WARNING, msg, args, **kwargs)\n",
      "  File \"/usr/lib64/python3.9/logging/__init__.py\", line 1589, in _log\n",
      "    self.handle(record)\n",
      "  File \"/usr/lib64/python3.9/logging/__init__.py\", line 1599, in handle\n",
      "    self.callHandlers(record)\n",
      "  File \"/usr/lib64/python3.9/logging/__init__.py\", line 1661, in callHandlers\n",
      "    hdlr.handle(record)\n",
      "  File \"/usr/lib64/python3.9/logging/__init__.py\", line 952, in handle\n",
      "    self.emit(record)\n",
      "  File \"/usr/local/lib/python3.9/site-packages/pip/_internal/utils/logging.py\", line 179, in emit\n",
      "    self.handleError(record)\n",
      "Message: '[present-rich] %s'\n",
      "Arguments: (UpgradePrompt(old='22.2.2', new='23.0.1'),)\n"
     ]
    }
   ],
   "source": [
    "!pip install --upgrade --no-cache-dir gdown \n",
    "!gdown 1emagLwrQrZoaitHvoRkp2ZOFNg0TsZdR\n",
    "\n",
    "!pip install -r requirements2.txt\n",
    "\n",
    "if 'google.colab' in str(get_ipython()):\n",
    "    import IPython, ipywidgets, google\n",
    "\n",
    "    button = ipywidgets.Button(\n",
    "        description='Нажмите, чтобы перезапустить Google Colab Runtime',\n",
    "        layout=ipywidgets.Layout(width='auto', height='40px')\n",
    "    )        \n",
    "    button.on_click(lambda _: get_ipython().kernel.do_shutdown(True))\n",
    "    IPython.display.display(button)"
   ]
  },
  {
   "cell_type": "code",
   "execution_count": 5,
   "metadata": {
    "id": "Th8Xxd4aA-vC"
   },
   "outputs": [],
   "source": [
    "import matplotlib\n",
    "assert(matplotlib.__version__ == '3.5.3')"
   ]
  },
  {
   "cell_type": "markdown",
   "metadata": {
    "id": "LvZ1zu1w7X2p"
   },
   "source": [
    "\n",
    "\n",
    "\n",
    "## Введение\n",
    "\n",
    "Привет, ребятушки!\n",
    "\n",
    "Сегодня мы с вами будем решать очень важную задачу, а именно оценивать цену подержанных автомобилей в ряде стран. Делать мы это будем с помощью различных методов градиентного бустинга. Мы с вами узнаем, что в мире существует не только sklearn, и что существуют библиотеки, облегчающие нам задачу поиска оптимальных параметров для моделей.\n",
    "\n",
    "**Внимание! Во всех заданиях в качестве целевой метрики используется MAE (средняя абсолютная ошибка).** Значение MAE вычисляется как\n",
    "\n",
    "$$\n",
    "  MAE = \\sum_{i = 1}^N\\dfrac{|a(x_i) - y_i|}{N},\n",
    "$$\n",
    "\n",
    "где $N$ - число объектов в тестовой выборке, $x_i$ - вектор признаков i-го объекта, $a(x_i)$ - предсказание на i-ом объекте, $y_i$ - значение целевого признака на i-м объекте."
   ]
  },
  {
   "cell_type": "markdown",
   "metadata": {
    "id": "KpN7nlaE7X2q"
   },
   "source": [
    "## Используемые библиотеки\n",
    "\n",
    "В этом задании нам понадобятся три бибиотеки, которыми вы ранее не пользовались в этом курсе, а именно:\n",
    "\n",
    "**XGBoost**: Документация [здесь](https://xgboost.readthedocs.io/en/stable/).<br />\n",
    "**LightGBM**: Документация [здесь](https://lightgbm.readthedocs.io/en/latest/index.html). Также дополнительно про установку [тут](https://pypi.org/project/lightgbm/).<br />\n",
    "**Catboost**: Документация [здесь](https://catboost.ai/en/docs/). Можно найти также некоторую информацию на русском [тут](https://habr.com/ru/company/otus/blog/527554/).<br />\n",
    "**HyperOpt**: Документация [здесь](http://hyperopt.github.io/hyperopt/). <br />\n",
    "\n",
    "Внимание! Вникать и подробно читать документацию к каждой библиотеке нет необходимости! Достаточно обращаться туда для нахождения примеров обучения.\n"
   ]
  },
  {
   "cell_type": "markdown",
   "metadata": {
    "id": "dyx8TlnM7X2q"
   },
   "source": [
    "## Как правильно перебирать параметры\n",
    "\n",
    "В этом ноутбуке мы будем несколько раз заниматься поиском оптимальных параметров для градиентного бустинга, перебирая задания по заданной сетке. В этом задании от Вас не будет требоваться найти самые лучшие параметры, но всё равно важно правильно составлять сетку для перебора. Для этого нужно понимать суть параметров и их смысл.\n",
    "\n",
    "\n",
    "\n",
    "**learning_rate** -- темп обучения нашего метода. Для этого метода сетка перебора должна быть логарифмической, т.е. перебирать порядковые значения (к примеру, [1e-3, 1e-2, 1e-1, 1]). В большинстве случаев достаточно перебрать значения от 1e-5 до 1.<br />\n",
    "**max_depth** -- максимальная глубина деревьев в ансамбле. Вообще говоря, эта величина зависит от числа признаков, но обычно лучше растить небольшие деревья. К примеру, библиотека CatBoost, которую мы будем исследовать сегодня, рекомендует перебирать значения до 10 (и уточняется, что обычно оптимальная глубина лежит от 6 до 10).<br />\n",
    "**n_estimators** -- количество деревьев в ансамбле. Обычно стоит перебирать с каким-то крупным шагом (можно по логарифмической сетке). Здесь важно найти баланс между производительностью, временем обучения и качеством. Обычно нескольких тысяч деревьев бывает достаточно.<br />\n",
    "\n",
    "Учтите, что в реальных задачах необходимо следить за тем, что оптимальные значения параметров не попадают на границы интервалов, т.е. что вы нашли хотя бы локальный минимум. Если Вы перебрали значения параметра от 1 до 10 и оказалось, что 10 - оптимальное значение, значит следует перебрать и бОльшие числа, чтобы убедиться, что качество не улучшается дальше (или по крайней мере убедиться, что рост качества сильно замедляется и на сильное улучшения рассчитывать не стоит.\n"
   ]
  },
  {
   "cell_type": "markdown",
   "metadata": {
    "id": "r3ZI8Zhn7X2r"
   },
   "source": [
    "## Подготовка датасета\n",
    "\n",
    "Все библиотеки, используемые сегодня, мы будем проверять на одних и тех же параметрах: n_estimators=1000, max_depth=5, learning_rate=0.1. Таким образом мы устанавливаем, соответственно, число деревьев в ансамбле равным 1000, ограничиваем максимальную глубину деревьев 5 и устанавливаем темп обучения равным 0.1. Создадим сразу словарь, чтобы передавать эти параметры создаваемым регрессорам (если вдруг не знали, словарь можно передавать как параметры, поставив перед ним **).\n",
    "\n",
    "Эти параметры мы вынесем в отдельную переменную `test_parameters`.\n",
    "\n",
    "При желании можно почитать про этот датасет на платформе kaggle: [ссылка на данные](https://www.kaggle.com/bushnag/cars-in-the-middle-east?select=dataframe_YesIndex_YesHeader_C.csv). <span style=\"color:red\"> <font color=\"red\">Не скачивайте датасет из kaggle для выполнения ноутбука, поскольку его могут изменить.</font></span> Нас интересует файл dataframe_YesIndex_YesHeader_C.csv, поскольку он уже хорошо предобработан (хотя, конечно, датасаентисты должны сами уметь это делать, но ладно).\n",
    "Давайте попробуем загрузить датасет в память и посмотреть, как он выглядит."
   ]
  },
  {
   "cell_type": "markdown",
   "metadata": {
    "id": "SLNT0cZgY8cc"
   },
   "source": [
    "При работе в google colab для скачивания датасета достаточно запустить следующую ячейку.\n",
    "\n",
    "При работе с ноутбуком <span style=\"color:red\"> <font color=\"red\">на локальном компьютере</font></span> Вы можете скачать файл по [этой ссылке](https://drive.google.com/file/d/1gdDv2kTCEkF3ia1vvbvRFJM0YfqmPplb/view?usp=sharing) и чуть ниже заменить ` /content/dataframe_YesIndex_YesHeader_C.csv` (в строке с `read_csv`) на ваш локальный путь до файла."
   ]
  },
  {
   "cell_type": "code",
   "execution_count": 2,
   "metadata": {
    "colab": {
     "base_uri": "https://localhost:8080/"
    },
    "id": "sjbxX5-HY2e7",
    "outputId": "a9eeeb15-5905-4fda-8896-a67388ca2bde"
   },
   "outputs": [
    {
     "name": "stdout",
     "output_type": "stream",
     "text": [
      "Downloading...\n",
      "From: https://drive.google.com/uc?id=1gdDv2kTCEkF3ia1vvbvRFJM0YfqmPplb\n",
      "To: /content/dataframe_YesIndex_YesHeader_C.csv\n",
      "100% 568k/568k [00:00<00:00, 26.4MB/s]\n"
     ]
    }
   ],
   "source": [
    "# при локальном выполнении запускать эту ячейку НЕ НАДО\n",
    "!gdown 1gdDv2kTCEkF3ia1vvbvRFJM0YfqmPplb"
   ]
  },
  {
   "cell_type": "code",
   "execution_count": 6,
   "metadata": {
    "id": "fPWOU-rL7X2s"
   },
   "outputs": [],
   "source": [
    "%matplotlib inline\n",
    "from sklearn.ensemble import GradientBoostingRegressor\n",
    "from sklearn.model_selection import train_test_split, GridSearchCV, cross_val_score\n",
    "from sklearn.metrics import mean_absolute_error, make_scorer\n",
    "\n",
    "from hyperopt import hp, tpe, Trials\n",
    "from hyperopt.fmin import fmin\n",
    "from hyperopt.pyll import scope\n",
    "\n",
    "from xgboost import XGBRegressor\n",
    "\n",
    "from lightgbm import LGBMRegressor\n",
    "\n",
    "from catboost import CatBoostRegressor\n",
    "\n",
    "import matplotlib.pyplot as plt\n",
    "\n",
    "import pandas as pd\n",
    "\n",
    "import numpy as np\n",
    "\n",
    "import time"
   ]
  },
  {
   "cell_type": "code",
   "execution_count": 7,
   "metadata": {
    "colab": {
     "base_uri": "https://localhost:8080/",
     "height": 471
    },
    "id": "fHlskwJc7X2t",
    "outputId": "54c46f66-59e4-4648-ad94-acda2449744f"
   },
   "outputs": [
    {
     "data": {
      "text/html": [
       "<div>\n",
       "<style scoped>\n",
       "    .dataframe tbody tr th:only-of-type {\n",
       "        vertical-align: middle;\n",
       "    }\n",
       "\n",
       "    .dataframe tbody tr th {\n",
       "        vertical-align: top;\n",
       "    }\n",
       "\n",
       "    .dataframe thead th {\n",
       "        text-align: right;\n",
       "    }\n",
       "</style>\n",
       "<table border=\"1\" class=\"dataframe\">\n",
       "  <thead>\n",
       "    <tr style=\"text-align: right;\">\n",
       "      <th></th>\n",
       "      <th>Engine Capacity</th>\n",
       "      <th>Cylinders</th>\n",
       "      <th>Drive Type</th>\n",
       "      <th>Fuel Tank Capacity</th>\n",
       "      <th>Fuel Economy</th>\n",
       "      <th>Fuel Type</th>\n",
       "      <th>Horsepower</th>\n",
       "      <th>Torque</th>\n",
       "      <th>Transmission</th>\n",
       "      <th>Top Speed</th>\n",
       "      <th>...</th>\n",
       "      <th>Acceleration</th>\n",
       "      <th>Length</th>\n",
       "      <th>Width</th>\n",
       "      <th>Height</th>\n",
       "      <th>Wheelbase</th>\n",
       "      <th>Trunk Capacity</th>\n",
       "      <th>name</th>\n",
       "      <th>price</th>\n",
       "      <th>currency</th>\n",
       "      <th>Country</th>\n",
       "    </tr>\n",
       "  </thead>\n",
       "  <tbody>\n",
       "    <tr>\n",
       "      <th>5662</th>\n",
       "      <td>6.6</td>\n",
       "      <td>12</td>\n",
       "      <td>2</td>\n",
       "      <td>82.0</td>\n",
       "      <td>14.1</td>\n",
       "      <td>0</td>\n",
       "      <td>563</td>\n",
       "      <td>820.0</td>\n",
       "      <td>0</td>\n",
       "      <td>250</td>\n",
       "      <td>...</td>\n",
       "      <td>5.0</td>\n",
       "      <td>5.285</td>\n",
       "      <td>1.947</td>\n",
       "      <td>1.502</td>\n",
       "      <td>3.112</td>\n",
       "      <td>283.0</td>\n",
       "      <td>Rolls Royce Dawn 2021 6.6L V12</td>\n",
       "      <td>1300000.0</td>\n",
       "      <td>2</td>\n",
       "      <td>2</td>\n",
       "    </tr>\n",
       "    <tr>\n",
       "      <th>5663</th>\n",
       "      <td>6.8</td>\n",
       "      <td>8</td>\n",
       "      <td>2</td>\n",
       "      <td>96.0</td>\n",
       "      <td>15.0</td>\n",
       "      <td>0</td>\n",
       "      <td>530</td>\n",
       "      <td>1100.0</td>\n",
       "      <td>0</td>\n",
       "      <td>305</td>\n",
       "      <td>...</td>\n",
       "      <td>4.9</td>\n",
       "      <td>5.575</td>\n",
       "      <td>1.926</td>\n",
       "      <td>1.521</td>\n",
       "      <td>3.266</td>\n",
       "      <td>443.0</td>\n",
       "      <td>Bentley Mulsanne 2021 6.75L V8 Speed</td>\n",
       "      <td>1600000.0</td>\n",
       "      <td>2</td>\n",
       "      <td>2</td>\n",
       "    </tr>\n",
       "    <tr>\n",
       "      <th>5664</th>\n",
       "      <td>6.7</td>\n",
       "      <td>12</td>\n",
       "      <td>2</td>\n",
       "      <td>100.0</td>\n",
       "      <td>14.8</td>\n",
       "      <td>0</td>\n",
       "      <td>563</td>\n",
       "      <td>900.0</td>\n",
       "      <td>0</td>\n",
       "      <td>250</td>\n",
       "      <td>...</td>\n",
       "      <td>5.3</td>\n",
       "      <td>5.762</td>\n",
       "      <td>2.018</td>\n",
       "      <td>1.646</td>\n",
       "      <td>3.552</td>\n",
       "      <td>548.0</td>\n",
       "      <td>Rolls Royce Phantom 2021 6.75L Short Wheelbase</td>\n",
       "      <td>1950000.0</td>\n",
       "      <td>2</td>\n",
       "      <td>2</td>\n",
       "    </tr>\n",
       "    <tr>\n",
       "      <th>5665</th>\n",
       "      <td>6.5</td>\n",
       "      <td>12</td>\n",
       "      <td>1</td>\n",
       "      <td>90.0</td>\n",
       "      <td>16.0</td>\n",
       "      <td>0</td>\n",
       "      <td>770</td>\n",
       "      <td>720.0</td>\n",
       "      <td>0</td>\n",
       "      <td>350</td>\n",
       "      <td>...</td>\n",
       "      <td>2.8</td>\n",
       "      <td>4.343</td>\n",
       "      <td>2.098</td>\n",
       "      <td>1.136</td>\n",
       "      <td>2.700</td>\n",
       "      <td>140.0</td>\n",
       "      <td>Lamborghini Aventador SVJ 2021 LP770-4 Coupe</td>\n",
       "      <td>1850000.0</td>\n",
       "      <td>2</td>\n",
       "      <td>2</td>\n",
       "    </tr>\n",
       "    <tr>\n",
       "      <th>5667</th>\n",
       "      <td>8.0</td>\n",
       "      <td>16</td>\n",
       "      <td>1</td>\n",
       "      <td>100.0</td>\n",
       "      <td>22.5</td>\n",
       "      <td>0</td>\n",
       "      <td>1500</td>\n",
       "      <td>1600.0</td>\n",
       "      <td>0</td>\n",
       "      <td>420</td>\n",
       "      <td>...</td>\n",
       "      <td>2.4</td>\n",
       "      <td>4.544</td>\n",
       "      <td>2.037</td>\n",
       "      <td>1.212</td>\n",
       "      <td>2.711</td>\n",
       "      <td>45.0</td>\n",
       "      <td>Bugatti Chiron 2021 8.0L W16</td>\n",
       "      <td>9600000.0</td>\n",
       "      <td>2</td>\n",
       "      <td>2</td>\n",
       "    </tr>\n",
       "  </tbody>\n",
       "</table>\n",
       "<p>5 rows × 21 columns</p>\n",
       "</div>"
      ],
      "text/plain": [
       "      Engine Capacity  Cylinders  Drive Type  Fuel Tank Capacity  \\\n",
       "5662              6.6         12           2                82.0   \n",
       "5663              6.8          8           2                96.0   \n",
       "5664              6.7         12           2               100.0   \n",
       "5665              6.5         12           1                90.0   \n",
       "5667              8.0         16           1               100.0   \n",
       "\n",
       "      Fuel Economy  Fuel Type  Horsepower  Torque  Transmission  Top Speed  \\\n",
       "5662          14.1          0         563   820.0             0        250   \n",
       "5663          15.0          0         530  1100.0             0        305   \n",
       "5664          14.8          0         563   900.0             0        250   \n",
       "5665          16.0          0         770   720.0             0        350   \n",
       "5667          22.5          0        1500  1600.0             0        420   \n",
       "\n",
       "      ...  Acceleration  Length  Width  Height  Wheelbase  Trunk Capacity  \\\n",
       "5662  ...           5.0   5.285  1.947   1.502      3.112           283.0   \n",
       "5663  ...           4.9   5.575  1.926   1.521      3.266           443.0   \n",
       "5664  ...           5.3   5.762  2.018   1.646      3.552           548.0   \n",
       "5665  ...           2.8   4.343  2.098   1.136      2.700           140.0   \n",
       "5667  ...           2.4   4.544  2.037   1.212      2.711            45.0   \n",
       "\n",
       "                                                 name      price  currency  \\\n",
       "5662                   Rolls Royce Dawn 2021 6.6L V12  1300000.0         2   \n",
       "5663             Bentley Mulsanne 2021 6.75L V8 Speed  1600000.0         2   \n",
       "5664  Rolls Royce Phantom 2021 6.75L Short Wheelbase   1950000.0         2   \n",
       "5665    Lamborghini Aventador SVJ 2021 LP770-4 Coupe   1850000.0         2   \n",
       "5667                     Bugatti Chiron 2021 8.0L W16  9600000.0         2   \n",
       "\n",
       "      Country  \n",
       "5662        2  \n",
       "5663        2  \n",
       "5664        2  \n",
       "5665        2  \n",
       "5667        2  \n",
       "\n",
       "[5 rows x 21 columns]"
      ]
     },
     "execution_count": 7,
     "metadata": {},
     "output_type": "execute_result"
    }
   ],
   "source": [
    "test_parameters = {\"n_estimators\": 1000, \"max_depth\": 5, \"learning_rate\":0.1}\n",
    "\n",
    "df = pd.read_csv('dataframe_YesIndex_YesHeader_C.csv', index_col=0)\n",
    "df.tail()"
   ]
  },
  {
   "cell_type": "markdown",
   "metadata": {
    "id": "5zHhSc7L7X2u"
   },
   "source": [
    "### Задание 0 (без проверки, 0 баллов)\n",
    "\n",
    "Посмотрите на цены автомобилей. Попробуйте понять, написаны они в одной валюте или нет. Если нет -- будут ли у нас серьезные проблемы при использовании деревьев? Стоит ли нам что-то сделать для того, чтобы нивелировать эту проблему?\n"
   ]
  },
  {
   "cell_type": "markdown",
   "metadata": {
    "id": "cL_dLDNE7X2v"
   },
   "source": [
    "В глаза бросаются две проблемы: у нас имеется информация о производителе автомобиля, скрытая в текстовой переменной модели автомобиля (нет отдельного признака). Также имеются некоторые категориальные переменные. Со всем этим безобразием надо что-то сделать.\n",
    "\n",
    "### **Задание 1 (кросс-проверка, 3 балла)**\n",
    "**Данные**: датасет со стоимостью подержанных автомобилей  \n",
    "**Цели**: В данном задании следует выполнить следующие пункты (выполнять можно в любом порядке)\n",
    "1. Изучить датасет, проверить наличие пропусков. Под пропусками подразумевается значение N/A вместо признака. При необходимости заменить их на среднее значение признака.\n",
    "3. Добавить столбец brand с информацией о производителе автомобиля (для простоты можно взять первое слово в названии модели)\n",
    "4. Решить, какие признаки Вы хотите сделать категориальными. Конвертировать выбранные категориальные столбцы в тип category. \n",
    "5. Создать датасет А с категориальными признаками в виде категорий. Для этого необходимо создать вектор целевых значений (столбец цен автомобилей) и матрицу признаков с категориальными переменными, в которых все категориальные переменные поставлены в тип category (получается путем удаления только целевой переменной из матрицы с данными). Дополнительно стоит создать список с названиями и индексами столбцов категориальных переменных (поможет в будущем).\n",
    "6. Создать датасет B без категориальных признаков. Для этого необходимо создать вектор целевых значений (столбец цен автомобилей) и удалить из матрицы признаков столбец с целевыми переменными, а также все категориальные переменные.\n",
    "8. Создать датасет C с категориальными признаками в виде one-hot encoding. Для этого необходимо создать вектор целевых значений (столбец цен автомобилей), удалить из матрицы признаков столбец с целевыми переменными и все категориальными переменные, а затем добавить новые признаки, соответствующие one-hot encoding категориальных переменных (здесь вам поможет функция `pd.get_dummies`).\n",
    "9. Разбить датасеты на тренировочное и тестовое множества, используя `train_test_split(X, y, test_size=0.25, random_state=0)` (зафиксировав random_seed мы получим одинаковое разбиение на обучение/тест для всех трёх выборок)."
   ]
  },
  {
   "cell_type": "code",
   "execution_count": 9,
   "metadata": {
    "colab": {
     "base_uri": "https://localhost:8080/"
    },
    "id": "-ZJE0vqv7X2v",
    "outputId": "1982c6da-5c7f-4dd8-817c-b4865a052489"
   },
   "outputs": [
    {
     "name": "stdout",
     "output_type": "stream",
     "text": [
      "Engine Capacity       0\n",
      "Cylinders             0\n",
      "Drive Type            0\n",
      "Fuel Tank Capacity    0\n",
      "Fuel Economy          0\n",
      "Fuel Type             0\n",
      "Horsepower            0\n",
      "Torque                0\n",
      "Transmission          0\n",
      "Top Speed             0\n",
      "Seating Capacity      0\n",
      "Acceleration          0\n",
      "Length                0\n",
      "Width                 0\n",
      "Height                0\n",
      "Wheelbase             0\n",
      "Trunk Capacity        0\n",
      "name                  0\n",
      "price                 0\n",
      "currency              0\n",
      "Country               0\n",
      "dtype: int64\n"
     ]
    }
   ],
   "source": [
    "datasets = {'A' : None, 'B': None, 'C': None}\n",
    "\n",
    "# your code here\n",
    "print(df.isna().sum(axis=0))"
   ]
  },
  {
   "cell_type": "code",
   "execution_count": 10,
   "metadata": {
    "colab": {
     "base_uri": "https://localhost:8080/",
     "height": 471
    },
    "id": "EWxG1wSIKKSU",
    "outputId": "1b6eb419-cd9a-42ed-9175-da648adb2adf"
   },
   "outputs": [
    {
     "data": {
      "text/html": [
       "<div>\n",
       "<style scoped>\n",
       "    .dataframe tbody tr th:only-of-type {\n",
       "        vertical-align: middle;\n",
       "    }\n",
       "\n",
       "    .dataframe tbody tr th {\n",
       "        vertical-align: top;\n",
       "    }\n",
       "\n",
       "    .dataframe thead th {\n",
       "        text-align: right;\n",
       "    }\n",
       "</style>\n",
       "<table border=\"1\" class=\"dataframe\">\n",
       "  <thead>\n",
       "    <tr style=\"text-align: right;\">\n",
       "      <th></th>\n",
       "      <th>Engine Capacity</th>\n",
       "      <th>Cylinders</th>\n",
       "      <th>Drive Type</th>\n",
       "      <th>Fuel Tank Capacity</th>\n",
       "      <th>Fuel Economy</th>\n",
       "      <th>Fuel Type</th>\n",
       "      <th>Horsepower</th>\n",
       "      <th>Torque</th>\n",
       "      <th>Transmission</th>\n",
       "      <th>Top Speed</th>\n",
       "      <th>...</th>\n",
       "      <th>Length</th>\n",
       "      <th>Width</th>\n",
       "      <th>Height</th>\n",
       "      <th>Wheelbase</th>\n",
       "      <th>Trunk Capacity</th>\n",
       "      <th>name</th>\n",
       "      <th>price</th>\n",
       "      <th>currency</th>\n",
       "      <th>Country</th>\n",
       "      <th>brand</th>\n",
       "    </tr>\n",
       "  </thead>\n",
       "  <tbody>\n",
       "    <tr>\n",
       "      <th>5662</th>\n",
       "      <td>6.6</td>\n",
       "      <td>12</td>\n",
       "      <td>2</td>\n",
       "      <td>82.0</td>\n",
       "      <td>14.1</td>\n",
       "      <td>0</td>\n",
       "      <td>563</td>\n",
       "      <td>820.0</td>\n",
       "      <td>0</td>\n",
       "      <td>250</td>\n",
       "      <td>...</td>\n",
       "      <td>5.285</td>\n",
       "      <td>1.947</td>\n",
       "      <td>1.502</td>\n",
       "      <td>3.112</td>\n",
       "      <td>283.0</td>\n",
       "      <td>Rolls Royce Dawn 2021 6.6L V12</td>\n",
       "      <td>1300000.0</td>\n",
       "      <td>2</td>\n",
       "      <td>2</td>\n",
       "      <td>Rolls</td>\n",
       "    </tr>\n",
       "    <tr>\n",
       "      <th>5663</th>\n",
       "      <td>6.8</td>\n",
       "      <td>8</td>\n",
       "      <td>2</td>\n",
       "      <td>96.0</td>\n",
       "      <td>15.0</td>\n",
       "      <td>0</td>\n",
       "      <td>530</td>\n",
       "      <td>1100.0</td>\n",
       "      <td>0</td>\n",
       "      <td>305</td>\n",
       "      <td>...</td>\n",
       "      <td>5.575</td>\n",
       "      <td>1.926</td>\n",
       "      <td>1.521</td>\n",
       "      <td>3.266</td>\n",
       "      <td>443.0</td>\n",
       "      <td>Bentley Mulsanne 2021 6.75L V8 Speed</td>\n",
       "      <td>1600000.0</td>\n",
       "      <td>2</td>\n",
       "      <td>2</td>\n",
       "      <td>Bentley</td>\n",
       "    </tr>\n",
       "    <tr>\n",
       "      <th>5664</th>\n",
       "      <td>6.7</td>\n",
       "      <td>12</td>\n",
       "      <td>2</td>\n",
       "      <td>100.0</td>\n",
       "      <td>14.8</td>\n",
       "      <td>0</td>\n",
       "      <td>563</td>\n",
       "      <td>900.0</td>\n",
       "      <td>0</td>\n",
       "      <td>250</td>\n",
       "      <td>...</td>\n",
       "      <td>5.762</td>\n",
       "      <td>2.018</td>\n",
       "      <td>1.646</td>\n",
       "      <td>3.552</td>\n",
       "      <td>548.0</td>\n",
       "      <td>Rolls Royce Phantom 2021 6.75L Short Wheelbase</td>\n",
       "      <td>1950000.0</td>\n",
       "      <td>2</td>\n",
       "      <td>2</td>\n",
       "      <td>Rolls</td>\n",
       "    </tr>\n",
       "    <tr>\n",
       "      <th>5665</th>\n",
       "      <td>6.5</td>\n",
       "      <td>12</td>\n",
       "      <td>1</td>\n",
       "      <td>90.0</td>\n",
       "      <td>16.0</td>\n",
       "      <td>0</td>\n",
       "      <td>770</td>\n",
       "      <td>720.0</td>\n",
       "      <td>0</td>\n",
       "      <td>350</td>\n",
       "      <td>...</td>\n",
       "      <td>4.343</td>\n",
       "      <td>2.098</td>\n",
       "      <td>1.136</td>\n",
       "      <td>2.700</td>\n",
       "      <td>140.0</td>\n",
       "      <td>Lamborghini Aventador SVJ 2021 LP770-4 Coupe</td>\n",
       "      <td>1850000.0</td>\n",
       "      <td>2</td>\n",
       "      <td>2</td>\n",
       "      <td>Lamborghini</td>\n",
       "    </tr>\n",
       "    <tr>\n",
       "      <th>5667</th>\n",
       "      <td>8.0</td>\n",
       "      <td>16</td>\n",
       "      <td>1</td>\n",
       "      <td>100.0</td>\n",
       "      <td>22.5</td>\n",
       "      <td>0</td>\n",
       "      <td>1500</td>\n",
       "      <td>1600.0</td>\n",
       "      <td>0</td>\n",
       "      <td>420</td>\n",
       "      <td>...</td>\n",
       "      <td>4.544</td>\n",
       "      <td>2.037</td>\n",
       "      <td>1.212</td>\n",
       "      <td>2.711</td>\n",
       "      <td>45.0</td>\n",
       "      <td>Bugatti Chiron 2021 8.0L W16</td>\n",
       "      <td>9600000.0</td>\n",
       "      <td>2</td>\n",
       "      <td>2</td>\n",
       "      <td>Bugatti</td>\n",
       "    </tr>\n",
       "  </tbody>\n",
       "</table>\n",
       "<p>5 rows × 22 columns</p>\n",
       "</div>"
      ],
      "text/plain": [
       "      Engine Capacity  Cylinders  Drive Type  Fuel Tank Capacity  \\\n",
       "5662              6.6         12           2                82.0   \n",
       "5663              6.8          8           2                96.0   \n",
       "5664              6.7         12           2               100.0   \n",
       "5665              6.5         12           1                90.0   \n",
       "5667              8.0         16           1               100.0   \n",
       "\n",
       "      Fuel Economy  Fuel Type  Horsepower  Torque  Transmission  Top Speed  \\\n",
       "5662          14.1          0         563   820.0             0        250   \n",
       "5663          15.0          0         530  1100.0             0        305   \n",
       "5664          14.8          0         563   900.0             0        250   \n",
       "5665          16.0          0         770   720.0             0        350   \n",
       "5667          22.5          0        1500  1600.0             0        420   \n",
       "\n",
       "      ...  Length  Width  Height  Wheelbase  Trunk Capacity  \\\n",
       "5662  ...   5.285  1.947   1.502      3.112           283.0   \n",
       "5663  ...   5.575  1.926   1.521      3.266           443.0   \n",
       "5664  ...   5.762  2.018   1.646      3.552           548.0   \n",
       "5665  ...   4.343  2.098   1.136      2.700           140.0   \n",
       "5667  ...   4.544  2.037   1.212      2.711            45.0   \n",
       "\n",
       "                                                 name      price currency  \\\n",
       "5662                   Rolls Royce Dawn 2021 6.6L V12  1300000.0        2   \n",
       "5663             Bentley Mulsanne 2021 6.75L V8 Speed  1600000.0        2   \n",
       "5664  Rolls Royce Phantom 2021 6.75L Short Wheelbase   1950000.0        2   \n",
       "5665    Lamborghini Aventador SVJ 2021 LP770-4 Coupe   1850000.0        2   \n",
       "5667                     Bugatti Chiron 2021 8.0L W16  9600000.0        2   \n",
       "\n",
       "      Country        brand  \n",
       "5662        2        Rolls  \n",
       "5663        2      Bentley  \n",
       "5664        2        Rolls  \n",
       "5665        2  Lamborghini  \n",
       "5667        2      Bugatti  \n",
       "\n",
       "[5 rows x 22 columns]"
      ]
     },
     "execution_count": 10,
     "metadata": {},
     "output_type": "execute_result"
    }
   ],
   "source": [
    "df.insert(loc=df.shape[1], column='brand', value=df.name.str.split().str.get(0))\n",
    "df.tail()"
   ]
  },
  {
   "cell_type": "code",
   "execution_count": 11,
   "metadata": {
    "colab": {
     "base_uri": "https://localhost:8080/"
    },
    "id": "OvtyUDw6KNyf",
    "outputId": "61bcdb6d-cae1-43b6-91ca-15ddef0476f7"
   },
   "outputs": [
    {
     "name": "stdout",
     "output_type": "stream",
     "text": [
      "Unique values of Engine Capacity: \n",
      " [1.2 1.4 1.6 1.5 1.8 1.3 2.  2.4 2.5 2.7 2.8 3.  3.5 3.6 3.8 2.2 3.3 4.\n",
      " 3.2 5.3 5.7 3.7 4.5 4.3 6.2 4.8 5.  4.6 6.4 5.6 2.9 4.7 5.5 4.4 3.9 6.\n",
      " 8.  6.6 6.3 5.9 6.8 6.5 6.7 1.  2.3 0.  1.1 1.9 3.4 5.2 4.2]\n",
      "Unique values of Cylinders: \n",
      " [ 3  4  6  5  8 12 16 10]\n",
      "Unique values of Drive Type: \n",
      " [0 1 2]\n",
      "Unique values of Fuel Tank Capacity: \n",
      " [ 42.   45.   50.   48.   35.   60.   55.   40.   37.   41.   63.   80.\n",
      "  52.   53.   62.   47.   58.   75.   56.   65.   70.   88.   61.7  69.\n",
      "  61.3  90.   72.   76.   66.   51.   73.   59.   87.   82.   74.   69.6\n",
      " 136.   93.  138.  107.   54.   64.   83.   57.   62.5 135.   44.   68.5\n",
      "  68.   89.  140.   61.   67.   71.   85.  100.   86.   78.   98.  105.\n",
      " 104.   91.   90.5  96.   43.   32.   95.  159.   77.  150.   88.5  84.\n",
      "  46.  106.  117. ]\n",
      "Unique values of Fuel Economy: \n",
      " [ 4.9   6.3   6.4   5.8   5.1   7.4   6.    6.8   6.9   7.5   6.1   7.\n",
      "  6.2   5.9   8.    8.4   6.6   6.5   5.7   9.3   8.1   4.4   5.4   7.8\n",
      "  9.5   7.1  11.1   9.8   8.5   8.7   7.7  10.2   9.    6.7  10.8   7.2\n",
      " 13.1   7.3  13.    8.2  10.3   4.5  10.7  12.    9.2   9.4   8.3  12.4\n",
      "  7.9  10.    9.6   9.9  10.9  13.6  11.    8.8   9.7  10.1  12.6  12.7\n",
      " 13.8  15.6   4.7  10.5  10.4  13.4  12.3  19.   10.6   5.3   5.2   5.6\n",
      " 16.7   5.5  17.2  14.7  14.5  11.3  15.7  11.2  11.8   8.9  11.9  11.7\n",
      "  7.6  13.5  18.   15.8   9.1  12.1   3.4  15.5  14.   11.5  12.8   2.5\n",
      "  3.8  11.4  22.5   3.3   2.9  14.8  11.6  13.3  14.3  15.   12.9  14.4\n",
      " 12.2  14.6  14.1  16.    4.8   4.1  12.5   4.    8.6   5.   14.2  16.8\n",
      "  3.   14.9  16.9   4.3   4.6  16.2   3.7  13.2  13.7  19.7   3.1   2.8\n",
      "  5.88 15.2 ]\n",
      "Unique values of Fuel Type: \n",
      " [0 1 2]\n",
      "Unique values of Horsepower: \n",
      " [  76   75  102  112   98  100  123  130   84  160  169  135  118  105\n",
      "  127  110  103  121   82  115  150  147  155  140  220   91  148  132\n",
      "  107  167  153  164  113  180  178  205  170  175  188  174  215  198\n",
      "  163  165  189  227  176  212  172  181  197  185  240  305  241  298\n",
      "  134  257  168  310  284  285  252  120  177  109  286  250  161  290\n",
      "  235  247  271  270  335  276  280  292  136  265  272  226  230  190\n",
      "  200  295  363  248  251  355  300  400  328  232  360  370  211  375\n",
      "  455  208  154  192  420  350  304  485  268  330  255  184  340  362\n",
      "  258  326  650  460  275  329  464  204  245  381  246  550  430  296\n",
      "  435  314  338  421  367  313  254  320  471  308  590  311  450  707\n",
      "  410  470  404  380  407  428  354  299  462  440  585  385  525  431\n",
      "  530  612  469  600  503  680  575  542 1500  630  610  635  563  690\n",
      "  624  626  593  505  770   99   77  217   83  114  104  108   89  106\n",
      "  152  139  173  224  145  116  203  243  277  401  315  218  365  395\n",
      "  306  510  341  500  416  797  565  571  465 5050  625  476  562  558\n",
      "  567  740   67   94   90   92  125  131  159  111  171  158  122  225\n",
      "  182  156  288  210  283  187  301  202  236  297  231  415  333  640\n",
      "  394  325  526  377  382  408  442  397  390  405  438  557  545  560\n",
      "  520  490  570  605  475  572  540  544  521  670  577  580  568  592\n",
      "  453  887  133  411  316  573  219   86  128  312  402]\n",
      "Unique values of Torque: \n",
      " [ 100.  118.  145.  150.  127.  132.  151.  170.  122.  230.  250.  195.\n",
      "  140.  157.  136.  135.  113.  149.  180.  138.  131.  197.  342.  160.\n",
      "  225.  175.  350.  130.  155.  192.  161.  233.  222.  245.  154.  232.\n",
      "  231.  156.  193.  210.  249.  174.  207.  275.  400.  265.  251.  360.\n",
      "  285.  260.  240.  196.  220.  306.  292.  221.  237.  241.  356.  327.\n",
      "  244.  320.  366.  294.  227.  235.  450.  361.  336.  353.  340.  352.\n",
      "  338.  246.  376.  370.  324.  362.  383.  355.  377.  413.  316.  420.\n",
      "  381.  363.  226.  470.  385.  535.  518.  358.  335.  650.  300.  615.\n",
      "  515.  536.  365.  389.  555.  614.  451.  280.  624.  520.  439.  637.\n",
      "  270.  530.  380.  881.  569.  570.  407.  395.  386.  603.  500.  475.\n",
      "  583.  680.  580.  730.  691.  630.  540.  460.  560.  600.  550.  700.\n",
      "  760.  623.  495.  625.  710.  850.  750.  685.  770.  900. 1600.  620.\n",
      " 1000.  820.  697.  800.  840.  870. 1020. 1100.  720.  141.  114.  134.\n",
      "  198.  139.  133.  120.  200.  123.  179.  102.  213.  317.  375.  259.\n",
      "  326.  243.  234.  330.  142.  205.  629.  397.  310.  510.  556.  438.\n",
      "  505.  610.  575.  410.  660.  959.  875.  652.  675.  690.   87.  143.\n",
      "   90.  148.  182.  153.  152.  185.  194.  163.  290.  339.  303.  215.\n",
      "  345.  369.  378.  258.  379.  434.  346.  474.  527.  465.  480.  855.\n",
      "  582.  542.  440.  430.  493.  590.  390.  814.  490.  830.  755. 1280.\n",
      "  187.  588.  645.  146.  121.  544.]\n",
      "Unique values of Transmission: \n",
      " [0 1 2]\n",
      "Unique values of Top Speed: \n",
      " [170 156 180 183 193 185 161 178 190 195 175 169 194 182 165 200 205 162\n",
      " 198 209 160 210 188 220 235 150 208 206 240 196 189 244 230 187 250 216\n",
      " 197 245 234 248 172 217 207 238 218 215 285 281 222 225 226 236 267 237\n",
      " 275 283 251 293 304 300 270 264 292 328 314 243 249 280 253 265 263 299\n",
      " 301 291 289 310 288 308 306 278 286 295 320 290 420 333 335 330 296 305\n",
      " 350 167 155 191 202 145 184 199 211 224 158 229 213 228 260 177 233 201\n",
      " 258 327 315 302 316 322 303 140 174 186 212 192 203 227 204 181 272 173\n",
      " 241 246 266 279 261 259 345 318 309 331 325 323 317 343 242 232 307]\n",
      "Unique values of Seating Capacity: \n",
      " [5 2 7 4 3 6 8 9]\n",
      "Unique values of Acceleration: \n",
      " [14.  16.  11.  10.9 12.  13.4 11.3 10.3 13.7  8.   9.8 11.5 11.2 11.6\n",
      " 13.  12.1 13.2 10.  13.5 10.7 13.1 15.  10.6  8.2  8.3  9.5 10.5 10.2\n",
      " 10.4  8.5  9.3  9.9 11.1  9.7  9.4  7.9  7.5 11.7 12.5  9.2  9.   8.4\n",
      " 12.7  8.7  9.1 11.9 11.8  6.8  6.3  7.6  7.2 12.9 12.8  7.  10.8  6.\n",
      " 12.3  7.4 10.1  5.8  7.7  5.1  7.8  6.5  9.6  6.6  5.6  6.4  5.2  5.5\n",
      "  5.3  8.6  6.9  7.1  5.4  4.   7.3  8.8  8.1  6.7  4.4  4.2  5.   5.9\n",
      "  6.2  4.8  3.5  4.7  3.9  4.6  4.3  5.7  4.5  6.1  3.6  4.1  4.9  3.4\n",
      "  3.7  3.8  2.4  2.8 14.5 13.9 15.4 15.5  8.9 17.5  3.3  3.  15.2 14.2\n",
      " 16.2 13.6 12.2 12.4 17.9 12.6  3.2 11.4 15.1]\n",
      "Unique values of Length: \n",
      " [4.245e+00 3.864e+00 4.354e+00 4.314e+00 3.636e+00 4.440e+00 3.595e+00\n",
      " 4.545e+00 4.341e+00 4.455e+00 4.115e+00 4.570e+00 4.533e+00 3.796e+00\n",
      " 4.435e+00 4.270e+00 3.995e+00 4.445e+00 4.295e+00 4.165e+00 4.265e+00\n",
      " 3.546e+00 4.355e+00 5.335e+00 4.160e+00 4.519e+00 4.257e+00 3.992e+00\n",
      " 4.275e+00 4.405e+00 4.475e+00 4.569e+00 4.690e+00 4.630e+00 4.695e+00\n",
      " 4.480e+00 4.248e+00 5.330e+00 4.615e+00 4.236e+00 4.885e+00 4.632e+00\n",
      " 5.168e+00 4.600e+00 4.650e+00 4.550e+00 4.735e+00 4.785e+00 4.175e+00\n",
      " 4.890e+00 4.253e+00 4.447e+00 4.350e+00 4.465e+00 4.575e+00 4.900e+00\n",
      " 4.335e+00 4.923e+00 4.795e+00 4.830e+00 4.649e+00 4.855e+00 5.113e+00\n",
      " 4.385e+00 4.869e+00 6.363e+00 4.670e+00 5.153e+00 4.625e+00 5.295e+00\n",
      " 4.641e+00 4.500e+00 4.595e+00 4.394e+00 5.189e+00 4.970e+00 4.237e+00\n",
      " 4.780e+00 4.351e+00 4.096e+00 4.255e+00 4.990e+00 4.930e+00 4.760e+00\n",
      " 4.917e+00 4.524e+00 4.801e+00 4.624e+00 4.880e+00 4.784e+00 5.115e+00\n",
      " 5.183e+00 4.795e+03 6.128e+00 5.040e+00 4.989e+00 4.258e+00 4.820e+00\n",
      " 4.299e+00 5.075e+00 4.173e+00 5.027e+00 4.861e+00 4.486e+00 5.171e+00\n",
      " 5.362e+00 5.110e+00 5.095e+00 5.044e+00 4.856e+00 4.362e+00 4.828e+00\n",
      " 5.636e+00 4.425e+00 4.810e+00 4.250e+00 3.821e+00 3.982e+00 4.726e+00\n",
      " 6.560e+00 4.256e+00 4.925e+00 5.080e+00 5.890e+00 4.673e+00 3.850e+00\n",
      " 4.005e+00 4.424e+00 4.379e+00 5.170e+00 5.088e+00 4.813e+00 4.599e+00\n",
      " 4.672e+00 4.966e+00 4.945e+00 4.432e+00 4.936e+00 4.324e+00 5.092e+00\n",
      " 4.384e+00 4.640e+00 4.783e+00 5.165e+00 4.733e+00 4.865e+00 4.663e+00\n",
      " 4.691e+00 4.177e+00 4.686e+00 4.133e+00 4.971e+00 4.826e+00 4.753e+00\n",
      " 5.094e+00 4.954e+00 4.709e+00 4.694e+00 4.703e+00 4.367e+00 4.752e+00\n",
      " 4.746e+00 5.005e+00 5.227e+00 4.456e+00 4.430e+00 4.843e+00 5.131e+00\n",
      " 4.950e+00 4.391e+00 4.915e+00 5.020e+00 5.100e+00 5.052e+00 4.848e+00\n",
      " 5.018e+00 4.859e+00 4.918e+00 4.931e+00 4.708e+00 5.262e+00 5.182e+00\n",
      " 4.482e+00 5.205e+00 5.340e+00 5.172e+00 4.704e+00 5.235e+00 4.723e+00\n",
      " 4.996e+00 5.255e+00 4.881e+00 4.924e+00 4.819e+00 5.065e+00 5.247e+00\n",
      " 5.179e+00 4.617e+00 5.120e+00 4.671e+00 4.851e+00 4.879e+00 4.988e+00\n",
      " 5.001e+00 4.993e+00 5.271e+00 4.999e+00 5.238e+00 5.049e+00 5.199e+00\n",
      " 4.926e+00 4.939e+00 5.000e+00 5.200e+00 4.586e+00 5.140e+00 4.544e+00\n",
      " 5.053e+00 5.462e+00 4.922e+00 5.316e+00 5.399e+00 5.019e+00 5.285e+00\n",
      " 5.569e+00 4.805e+00 5.575e+00 5.825e+00 4.343e+00 5.762e+00 4.342e+00\n",
      " 4.450e+00 3.780e+00 3.765e+00 4.572e+00 3.840e+00 4.490e+00 4.345e+00\n",
      " 4.062e+00 4.065e+00 3.700e+00 4.145e+00 4.694e+03 4.505e+00 4.660e+00\n",
      " 4.190e+00 3.645e+00 3.650e+00 4.510e+00 4.220e+00 4.585e+00 4.060e+00\n",
      " 4.655e+00 4.470e+00 4.240e+00 4.897e+00 4.540e+00 5.325e+00 4.460e+00\n",
      " 4.715e+00 4.956e+00 4.370e+00 5.003e+00 4.458e+00 5.413e+00 3.660e+00\n",
      " 4.610e+00 4.230e+00 4.697e+00 3.657e+00 4.485e+00 4.329e+00 5.585e+00\n",
      " 5.915e+00 4.054e+00 3.915e+00 4.319e+00 4.705e+00 6.352e+00 4.693e+00\n",
      " 6.035e+00 4.469e+00 6.758e+00 4.583e+00 4.395e+00 5.916e+00 5.351e+00\n",
      " 4.963e+00 5.309e+00 4.688e+00 4.680e+00 4.800e+00 4.803e+00 4.732e+00\n",
      " 4.745e+00 4.656e+00 4.692e+00 4.986e+00 4.846e+00 4.461e+00 3.989e+00\n",
      " 4.758e+00 5.091e+00 4.361e+00 5.302e+00 4.759e+00 4.710e+00 4.822e+00\n",
      " 5.130e+00 5.032e+00 5.141e+00 5.051e+00 4.530e+00 4.739e+00 4.750e+00\n",
      " 4.806e+00 5.112e+00 4.797e+00 3.500e+00 4.310e+00 3.600e+00 4.420e+00\n",
      " 4.477e+00 4.365e+00 4.399e+00 4.427e+00 4.380e+00 4.155e+00 4.021e+00\n",
      " 4.442e+00 4.506e+00 4.039e+00 4.358e+00 4.532e+00 3.962e+00 4.525e+00\n",
      " 4.280e+00 3.969e+00 4.202e+00 4.278e+00 3.973e+00 3.941e+00 4.871e+00\n",
      " 4.659e+00 4.698e+00 4.580e+00 4.000e+00 3.948e+00 4.884e+00 5.315e+00\n",
      " 4.223e+00 3.954e+00 4.644e+00 4.850e+00 4.466e+00 4.872e+00 5.126e+00\n",
      " 4.529e+00 4.825e+00 4.792e+00 5.380e+00 4.666e+00 4.191e+00 4.234e+00\n",
      " 4.555e+00 5.174e+00 5.070e+00 4.779e+00 4.388e+00 4.643e+00 4.287e+00\n",
      " 4.633e+00 5.036e+00 4.696e+00 4.454e+00 4.790e+00 4.665e+00 5.006e+00\n",
      " 4.712e+00 4.834e+00 4.961e+00 5.037e+00 4.594e+00 6.322e+00 4.239e+00\n",
      " 3.874e+00 4.109e+00 5.222e+00 4.114e+00 4.124e+00 4.626e+00 4.638e+00\n",
      " 4.590e+00 4.821e+00 4.479e+00 4.374e+00 4.244e+00 4.969e+00 5.293e+00\n",
      " 4.974e+00 5.672e+00 4.674e+00 5.127e+00 4.998e+00 4.719e+00 4.716e+00\n",
      " 5.090e+00 5.697e+00 5.008e+00 5.207e+00 5.116e+00 4.894e+00 4.962e+00\n",
      " 5.210e+00 5.252e+00 4.491e+00 5.012e+00 5.147e+00 4.528e+00 4.463e+00\n",
      " 4.382e+00 5.265e+00 5.246e+00 4.898e+00 5.011e+00 5.219e+00 4.527e+00\n",
      " 4.568e+00 4.730e+00 5.612e+00 3.585e+00 3.795e+00 4.631e+00 4.059e+00\n",
      " 4.061e+00 4.534e+00 4.263e+00 4.556e+00 4.905e+00 4.348e+00 4.744e+00\n",
      " 4.320e+00 4.980e+00 4.134e+00 4.635e+00 5.895e+00 4.829e+00 4.487e+00\n",
      " 4.849e+00 3.665e+00 4.483e+00 4.300e+00 4.397e+00 4.225e+00 4.410e+00\n",
      " 4.742e+00]\n",
      "Unique values of Width: \n",
      " [1.670e+00 1.716e+00 1.994e+00 1.809e+00 1.597e+00 1.729e+00 1.833e+00\n",
      " 1.595e+00 1.855e+00 1.804e+00 1.695e+00 1.700e+00 1.780e+00 1.705e+00\n",
      " 1.686e+00 1.735e+00 1.748e+00 1.960e+00 1.801e+00 1.627e+00 1.810e+00\n",
      " 1.815e+00 1.831e+00 1.775e+00 1.745e+00 1.732e+00 1.765e+00 1.805e+00\n",
      " 1.850e+00 1.830e+00 1.799e+00 1.795e+00 1.796e+00 1.800e+00 1.760e+00\n",
      " 1.840e+00 1.814e+00 1.980e+00 1.844e+00 1.839e+00 1.860e+00 1.863e+00\n",
      " 1.841e+00 1.755e+00 1.875e+00 1.854e+00 1.852e+00 2.050e+00 2.177e+00\n",
      " 1.874e+00 1.996e+00 1.870e+00 1.890e+00 1.798e+00 1.790e+00 1.865e+00\n",
      " 1.885e+00 1.915e+00 1.838e+00 1.897e+00 1.983e+00 1.995e+00 2.179e+03\n",
      " 2.063e+00 1.905e+00 1.822e+00 1.925e+00 1.969e+00 1.877e+00 1.923e+00\n",
      " 1.871e+00 1.811e+00 1.976e+00 1.864e+03 1.926e+00 1.943e+00 2.029e+00\n",
      " 1.910e+00 2.019e+00 1.820e+00 1.845e+00 1.727e+00 1.842e+00 2.045e+00\n",
      " 2.078e+00 2.116e+00 1.940e+00 2.463e+00 1.846e+00 2.069e+00 1.967e+00\n",
      " 1.834e+00 1.984e+00 1.868e+00 2.073e+00 1.864e+00 1.699e+00 1.825e+00\n",
      " 2.080e+00 1.843e+00 1.966e+00 2.100e+00 1.893e+00 2.091e+00 1.827e+00\n",
      " 1.786e+00 1.918e+00 2.070e+00 1.981e+00 1.880e+00 1.895e+00 1.777e+00\n",
      " 2.140e+00 2.123e+00 2.212e+00 2.012e+00 1.958e+00 1.891e+00 1.948e+00\n",
      " 2.030e+00 1.945e+00 1.900e+00 1.861e+00 1.869e+00 1.899e+00 2.056e+00\n",
      " 1.947e+00 1.935e+00 2.142e+00 2.099e+00 2.141e+00 2.014e+00 1.907e+00\n",
      " 1.903e+00 1.902e+00 1.937e+00 1.942e+00 1.989e+00 1.938e+00 1.998e+00\n",
      " 2.037e+00 1.930e+00 1.987e+00 1.929e+00 1.954e+00 2.098e+00 2.018e+00\n",
      " 1.692e+00 1.665e+00 1.720e+00 1.660e+00 1.675e+00 1.730e+00 1.725e+00\n",
      " 1.848e+03 1.837e+00 1.645e+00 1.821e+00 2.093e+00 1.911e+00 1.882e+00\n",
      " 1.647e+00 2.065e+00 1.950e+00 1.740e+00 2.079e+00 2.004e+00 2.008e+00\n",
      " 2.084e+00 2.057e+00 2.017e+00 2.160e+00 2.052e+00 2.032e+00 1.886e+00\n",
      " 2.090e+00 1.927e+00 2.047e+00 1.920e+00 1.990e+00 1.939e+00 2.095e+00\n",
      " 2.060e+00 2.227e+00 2.016e+00 1.600e+00 1.655e+00 1.736e+00 1.816e+00\n",
      " 1.823e+00 1.792e+00 1.739e+00 1.776e+00 1.978e+00 2.038e+00 1.781e+00\n",
      " 1.762e+00 1.829e+00 1.728e+00 1.789e+00 2.121e+00 1.778e+00 1.715e+00\n",
      " 2.459e+00 1.774e+00 1.956e+00 1.746e+00 1.906e+00 2.020e+00 1.928e+00\n",
      " 1.888e+00 1.828e+00 1.794e+00 1.808e+00 1.975e+00 2.039e+00 2.179e+00\n",
      " 1.988e+00 2.044e+00 1.785e+00 2.292e+03 2.077e+00 1.806e+00 2.438e+00\n",
      " 1.951e+00 2.172e+00 2.009e+00 1.802e+00 2.332e+00 2.105e+00 2.040e+00\n",
      " 2.042e+00 1.894e+00 2.106e+00 2.139e+00 2.111e+00 1.941e+00 1.866e+00\n",
      " 2.022e+00 1.952e+00 2.067e+00 1.912e+00 1.680e+00 1.693e+00 1.706e+00\n",
      " 2.006e+00 2.011e+00 2.200e+00 1.879e+00 2.222e+00]\n",
      "Unique values of Height: \n",
      " [1.515e+00 1.721e+00 1.529e+00 1.624e+00 1.483e+00 1.475e+00 1.560e+00\n",
      " 1.495e+00 1.719e+00 1.693e+00 1.440e+00 1.490e+00 1.527e+00 1.705e+00\n",
      " 1.665e+00 1.466e+00 1.590e+00 1.565e+00 1.685e+00 1.488e+00 1.625e+00\n",
      " 1.815e+00 1.670e+00 1.694e+00 1.646e+00 1.470e+00 1.467e+00 1.535e+00\n",
      " 1.655e+00 1.435e+00 1.740e+00 1.416e+00 1.460e+00 1.680e+00 1.650e+00\n",
      " 1.600e+00 1.700e+00 1.667e+00 1.445e+00 1.443e+00 1.928e+00 1.661e+00\n",
      " 1.675e+00 1.795e+00 1.800e+00 1.610e+00 1.450e+00 1.472e+00 1.615e+00\n",
      " 1.870e+00 1.695e+00 1.835e+00 1.710e+00 1.465e+00 1.496e+00 1.850e+00\n",
      " 2.760e+00 1.461e+00 1.541e+00 1.455e+00 1.785e+00 1.500e+00 1.686e+00\n",
      " 1.645e+00 1.869e+00 1.690e+00 1.653e+00 1.452e+00 1.480e+00 1.845e+00\n",
      " 1.676e+00 1.701e+00 1.684e+00 1.681e+00 1.810e+00 1.348e+00 1.767e+00\n",
      " 1.735e+03 1.915e+00 1.479e+00 1.492e+00 1.605e+00 1.822e+00 1.801e+00\n",
      " 1.716e+00 1.842e+00 1.889e+00 1.427e+00 1.816e+00 1.469e+00 1.847e+00\n",
      " 1.930e+00 1.900e+00 1.482e+00 1.792e+00 1.941e+00 1.652e+00 1.608e+00\n",
      " 1.344e+00 1.315e+00 1.945e+00 1.414e+00 1.425e+00 1.980e+00 1.630e+00\n",
      " 1.404e+00 1.476e+00 1.415e+00 1.855e+00 1.948e+00 1.371e+00 1.494e+00\n",
      " 1.295e+00 1.557e+00 1.724e+00 1.462e+00 1.453e+00 1.418e+00 1.846e+00\n",
      " 1.304e+00 1.813e+00 1.413e+00 1.377e+00 1.340e+00 1.389e+00 1.382e+00\n",
      " 1.940e+00 1.386e+00 1.392e+00 1.384e+00 1.355e+00 1.405e+00 1.301e+00\n",
      " 1.430e+00 1.659e+00 1.722e+00 1.457e+00 1.442e+00 1.395e+00 1.398e+00\n",
      " 1.417e+00 1.281e+00 1.621e+00 1.473e+00 1.468e+00 1.276e+00 1.269e+00\n",
      " 1.258e+00 1.501e+00 1.432e+00 1.775e+00 1.280e+00 1.262e+00 1.933e+00\n",
      " 1.741e+00 1.730e+00 1.696e+00 1.481e+00 1.471e+00 1.310e+00 1.311e+00\n",
      " 1.308e+00 1.925e+00 1.360e+00 1.353e+00 1.797e+00 1.796e+00 1.910e+00\n",
      " 1.298e+00 1.478e+00 1.890e+00 1.424e+00 1.780e+00 1.802e+00 1.422e+00\n",
      " 2.024e+00 1.383e+00 1.300e+00 1.498e+00 1.299e+00 1.485e+00 1.423e+00\n",
      " 1.428e+00 1.273e+00 1.673e+00 1.868e+00 1.411e+00 1.318e+00 1.742e+00\n",
      " 1.212e+00 1.499e+00 1.484e+00 1.550e+00 1.350e+00 1.507e+00 1.502e+00\n",
      " 1.521e+00 1.136e+00 1.493e+00 1.520e+00 1.715e+00 1.640e+00 1.505e+00\n",
      " 1.595e+00 1.465e+03 1.707e+00 1.725e+00 1.708e+00 1.399e+00 1.990e+00\n",
      " 1.400e+00 1.513e+00 1.508e+00 2.254e+00 1.632e+00 1.750e+00 2.123e+00\n",
      " 2.280e+00 1.233e+00 1.230e+00 1.830e+00 1.434e+00 2.027e+00 1.530e+00\n",
      " 1.679e+00 2.796e+00 2.778e+00 1.969e+00 1.649e+00 1.965e+00 1.971e+00\n",
      " 1.441e+00 1.927e+00 1.658e+00 1.421e+00 1.666e+00 1.602e+00 1.639e+00\n",
      " 1.368e+00 1.487e+00 1.390e+00 1.410e+00 1.669e+00 1.183e+00 1.620e+00\n",
      " 1.905e+00 1.226e+00 1.229e+00 1.538e+00 1.745e+00 1.486e+00 1.346e+00\n",
      " 1.448e+00 1.370e+00 1.778e+00 1.474e+00 1.259e+00 1.201e+00 1.279e+00\n",
      " 1.403e+00 1.638e+00 1.540e+00 1.438e+00 1.517e+00 1.834e+00 1.860e+00\n",
      " 1.852e+00 1.497e+00 1.674e+00 1.420e+00 1.880e+00 1.525e+00 1.394e+00\n",
      " 1.918e+00 1.691e+00 1.660e+00 1.825e+00 1.523e+00 1.727e+00 1.647e+00\n",
      " 1.456e+00 2.285e+00 1.285e+00 1.320e+00 1.794e+00 1.426e+00 1.359e+00\n",
      " 1.429e+00 1.770e+00 1.545e+00 1.765e+00 1.586e+00 1.391e+00 1.777e+00\n",
      " 1.972e+00 1.291e+00 1.518e+00 1.294e+00 1.397e+00 1.282e+00 1.284e+00\n",
      " 1.989e+00 1.559e+00 1.309e+00 1.433e+00 1.374e+00 1.688e+00 1.365e+00\n",
      " 1.321e+00 1.419e+00 1.458e+00 1.319e+00 1.246e+00 1.260e+00 1.296e+00\n",
      " 1.343e+00 1.244e+00 1.292e+00 1.393e+00 1.250e+00 1.322e+00 1.211e+00\n",
      " 1.213e+00 1.598e+00 1.566e+00 1.167e+00 1.444e+00 1.459e+00 1.861e+00\n",
      " 1.447e+00 1.991e+00 1.888e+00 1.932e+00 1.204e+00 1.463e+00 1.516e+00\n",
      " 1.613e+00 1.325e+00 1.955e+00 1.709e+00 1.920e+00]\n",
      "Unique values of Wheelbase: \n",
      " [2.550e+00 2.513e+00 2.635e+00 2.585e+00 2.385e+00 2.600e+00 2.700e+00\n",
      " 2.400e+00 2.676e+00 2.500e+00 2.489e+00 2.685e+00 2.590e+00 2.450e+00\n",
      " 2.652e+00 2.620e+00 2.740e+00 2.300e+00 2.670e+00 3.090e+00 2.560e+00\n",
      " 2.555e+00 2.520e+00 2.470e+00 2.570e+00 2.705e+00 2.725e+00 3.085e+00\n",
      " 2.824e+00 2.711e+00 3.198e+00 2.690e+00 2.750e+00 2.800e+00 2.830e+00\n",
      " 2.610e+00 2.675e+00 2.665e+00 2.780e+00 2.829e+00 2.900e+00 2.680e+00\n",
      " 2.805e+00 2.837e+00 2.825e+00 4.035e+00 2.686e+00 2.868e+00 3.095e+00\n",
      " 2.840e+00 2.640e+00 2.636e+00 3.071e+00 2.855e+00 2.459e+00 2.634e+00\n",
      " 2.519e+00 2.637e+00 2.885e+00 2.845e+00 2.790e+00 2.858e+00 2.770e+00\n",
      " 2.718e+00 2.895e+00 2.811e+00 3.060e+00 3.000e+00 2.850e+03 3.987e+00\n",
      " 3.052e+00 2.745e+00 3.045e+00 2.650e+00 2.930e+00 2.423e+00 2.950e+00\n",
      " 2.842e+00 2.681e+00 3.197e+00 3.221e+00 2.841e+00 3.043e+00 2.850e+00\n",
      " 3.053e+00 2.626e+00 2.916e+00 3.343e+00 2.702e+00 2.603e+00 2.495e+00\n",
      " 2.567e+00 2.820e+00 4.260e+00 2.660e+00 2.578e+00 2.970e+00 3.670e+00\n",
      " 2.764e+00 2.699e+00 2.475e+00 2.857e+00 2.741e+00 2.835e+00 2.911e+00\n",
      " 2.975e+00 2.923e+00 2.552e+00 2.810e+00 2.720e+00 3.075e+00 2.776e+00\n",
      " 2.505e+00 2.430e+00 2.998e+00 2.873e+00 2.808e+00 2.960e+00 2.851e+00\n",
      " 2.731e+00 2.760e+00 2.864e+00 2.874e+00 3.004e+00 3.109e+00 2.939e+00\n",
      " 2.484e+00 2.730e+00 2.985e+00 3.058e+00 2.994e+00 2.951e+00 3.171e+00\n",
      " 2.622e+00 3.160e+00 3.125e+00 2.766e+00 3.175e+00 2.942e+00 2.995e+00\n",
      " 2.915e+00 3.210e+00 2.946e+00 2.812e+00 3.065e+00 3.165e+00 2.922e+00\n",
      " 2.982e+00 3.100e+00 2.704e+00 3.120e+00 2.945e+00 3.365e+00 2.990e+00\n",
      " 3.194e+00 3.295e+00 2.989e+00 3.112e+00 3.465e+00 3.266e+00 3.516e+00\n",
      " 3.552e+00 2.502e+00 3.050e+00 2.425e+00 2.440e+00 2.580e+00 2.435e+00\n",
      " 2.715e+03 2.661e+00 2.250e+00 2.662e+00 2.907e+00 3.450e+00 2.791e+00\n",
      " 3.302e+00 3.860e+00 2.310e+00 4.037e+00 3.025e+00 3.010e+00 3.759e+00\n",
      " 2.905e+00 2.631e+00 2.587e+00 3.022e+00 3.672e+00 3.070e+00 2.941e+00\n",
      " 3.061e+00 2.865e+00 2.818e+00 2.924e+00 2.765e+00 2.693e+00 2.380e+00\n",
      " 2.575e+00 3.128e+00 2.870e+00 2.914e+00 2.630e+00 3.035e+00 2.746e+00\n",
      " 3.003e+00 2.360e+00 2.510e+00 2.525e+00 2.728e+00 2.625e+00 2.649e+00\n",
      " 2.538e+00 2.984e+00 2.710e+00 2.466e+00 2.608e+00 2.755e+00 2.651e+00\n",
      " 2.465e+00 2.464e+00 2.743e+00 2.469e+00 2.860e+00 2.612e+00 2.695e+00\n",
      " 2.727e+00 2.737e+00 2.817e+00 3.110e+03 2.601e+00 2.537e+00 3.021e+00\n",
      " 2.605e+00 2.849e+00 2.775e+00 2.979e+00 2.799e+00 2.866e+00 2.807e+00\n",
      " 2.909e+00 4.016e+00 2.496e+00 2.596e+00 2.751e+00 2.761e+00 3.023e+00\n",
      " 3.327e+00 3.032e+00 2.813e+00 3.157e+00 2.969e+00 2.854e+00 3.091e+00\n",
      " 2.457e+00 3.122e+00 2.938e+00 2.964e+00 3.320e+00 2.564e+00 2.602e+00\n",
      " 3.688e+00 2.908e+00 3.683e+00 2.804e+00]\n",
      "Unique values of Trunk Capacity: \n",
      " [  450.  2800.   510.   448.   314.   396.   330.   255.   595.   414.\n",
      "   286.   485.   430.   261.   213.   378.   506.   432.   544.   135.\n",
      "   185.   358.   900.   348.   580.   530.   355.   315.   240.   513.\n",
      "   408.   550.   525.   435.   291.   515.   402.   245.   351.   427.\n",
      "   503.  4410.  1085.   846.   184.   131.   375.   838.   473.   420.\n",
      "   520.   482.  1240.   478.  1081.   500.   453.  1087.   800.   532.\n",
      "   517. 17000.   568.   569.   460.  1100.   952.   398.   974.   770.\n",
      "   651.   451.   898.  1050.   350.   346.   590.   380.   965.   742.\n",
      "   362.   456.   841.   331.   258.   960.  1093.  1111.  1727.   455.\n",
      "  1801.   487.   407.   459.   563.   615.  1180.   625.   462.   750.\n",
      "   782.   592.   206.   235.   211.   278.   480.   292.   971.   436.\n",
      "   160.   668.  1568.   465.   421.   150.   461.   349.   849.   981.\n",
      "   388.   390.   310.   447.   280.   343.   445.   382.   702.   295.\n",
      "   400.   335.   425.   540.   341.   385.   650.   553.   374.   470.\n",
      "  1868.   521.   538.   481.   890.   994.   433.   207.   505.   648.\n",
      "   260.   690.   259.   132.   680.   784.   780.   173.   220.   495.\n",
      "   300.   745.   645.   504.   639.   484.    45.   405.   490.   283.\n",
      "   443.   446.   140.   548.   468.   502.   830.   252.   265.   600.\n",
      "   344.   492.   271.   424.   128.    85.   320.    96.  6000.  1150.\n",
      "   334.   545.   370. 11500.  1438.   700.   360.  1107.   275.  6986.\n",
      "  9800.   790.   493.   895. 11450.   406. 13800.   397.   577.  1075.\n",
      "  1500.  2038.   104.   342.  1461.   605.   110.   170.   161.   610.\n",
      "   197.   133.   249.   165.   270.   574.   254.   288.  3700.  3400.\n",
      "   285.   675.   290.   277.   276.   572.   423.   357.  1372.   356.\n",
      "  1059.   714.   562.   630.   236.   894.   467.  1223.   679.   152.\n",
      "   195.   243.   875.   691.   266.   384.   583.   225.   458.   340.\n",
      "  1239.   844.   381.  2138.   294.   305.   324.   332.  1028.  1833.\n",
      "   535.  1540.   198.  2444.   670.   196.  1113.  1690.   368.   125.\n",
      "   144.   115.   113.   241.   230.   395.   107.   284.   389.   372.\n",
      "   476.   543.   244.   736.   306.  1855.  1192.  1530.  2302.   608.\n",
      "   486.  6200.  1842.   139.   915.   224.]\n",
      "Unique values of name: \n",
      " ['Mitsubishi Attrage 2021 1.2 GLX (Base)'\n",
      " 'Fiat Fiorino 2021 1.4L Standard' 'Renault Symbol 2021 1.6L PE' ...\n",
      " 'Lexus GS 2021 450h Platinum' 'Lexus GS 2021 350 F-Sport '\n",
      " 'Aston Martin DB11 2021 AMR V12']\n",
      "Unique values of price: \n",
      " [  34099.   41250.   44930. ... 1950000. 1850000. 9600000.]\n",
      "Unique values of currency: \n",
      " [0 1 5 3 4 2]\n",
      "Unique values of Country: \n",
      " [0 1 5 3 4 2]\n",
      "Unique values of brand: \n",
      " ['Mitsubishi' 'Fiat' 'Renault' 'MG' 'Chevrolet' 'Hyundai' 'Geely' 'Kia'\n",
      " 'Honda' 'Toyota' 'BYD' 'Ford' 'Suzuki' 'Peugeot' 'Nissan' 'Changan'\n",
      " 'Skoda' 'Mazda' 'FAW' 'Jeep' 'Maxus' 'GMC' 'Subaru' 'Haval' 'Isuzu'\n",
      " 'Alfa' 'Volkswagen' 'Dodge' 'Mini' 'Chrysler' 'Volvo' 'Audi' 'Infiniti'\n",
      " 'Lexus' 'Lincoln' 'Mercedes-Benz' 'Porsche' 'Cadillac' 'Land' 'Jaguar'\n",
      " 'BMW' 'Maserati' 'Genesis' 'Aston' 'Ferrari' 'Bentley' 'Bugatti' 'Rolls'\n",
      " 'Lamborghini' 'Chery' 'ZNA' 'JAC' 'GAC' 'Mahindra' 'Borgward' 'Opel'\n",
      " 'Abarth' 'RAM' 'Lotus' 'McLaren' 'BAIC' 'Proton' 'Citroen' 'SsangYong'\n",
      " 'Seat' 'Acura']\n"
     ]
    }
   ],
   "source": [
    "for col_name in df.columns:\n",
    "    print(f'Unique values of {col_name}: \\n {df[col_name].unique()}')"
   ]
  },
  {
   "cell_type": "markdown",
   "metadata": {
    "id": "scVBJJFqOiO-"
   },
   "source": [
    "У категориальных признаков количество значений фиксированно. Такими являются Drive Type, Fuel Type, Transmission, name, currency, Country и brand."
   ]
  },
  {
   "cell_type": "code",
   "execution_count": 12,
   "metadata": {
    "colab": {
     "base_uri": "https://localhost:8080/"
    },
    "id": "UDgTfuMFN-O4",
    "outputId": "e271bb74-911b-439c-dcf6-8553269c8daf"
   },
   "outputs": [
    {
     "name": "stderr",
     "output_type": "stream",
     "text": [
      "/tmp/ipykernel_5280/4120612857.py:4: FutureWarning: In a future version, `df.iloc[:, i] = newvals` will attempt to set the values inplace instead of always setting a new array. To retain the old behavior, use either `df[df.columns[i]] = newvals` or, if columns are non-unique, `df.isetitem(i, newvals)`\n",
      "  df.loc[:, category['categories']] = df.loc[:, category['categories']].astype(\"category\")\n"
     ]
    },
    {
     "data": {
      "text/plain": [
       "Engine Capacity        float64\n",
       "Cylinders                int64\n",
       "Drive Type            category\n",
       "Fuel Tank Capacity     float64\n",
       "Fuel Economy           float64\n",
       "Fuel Type             category\n",
       "Horsepower               int64\n",
       "Torque                 float64\n",
       "Transmission          category\n",
       "Top Speed                int64\n",
       "Seating Capacity         int64\n",
       "Acceleration           float64\n",
       "Length                 float64\n",
       "Width                  float64\n",
       "Height                 float64\n",
       "Wheelbase              float64\n",
       "Trunk Capacity         float64\n",
       "price                  float64\n",
       "currency              category\n",
       "Country               category\n",
       "brand                 category\n",
       "dtype: object"
      ]
     },
     "execution_count": 12,
     "metadata": {},
     "output_type": "execute_result"
    }
   ],
   "source": [
    "df=df.drop(columns=['name'])\n",
    "category = {'categories': ['Drive Type', 'Fuel Type', 'Transmission', 'currency', 'Country', 'brand'],\n",
    "            'indices': [2, 5, 8, 19, 20, 21]}\n",
    "df.loc[:, category['categories']] = df.loc[:, category['categories']].astype(\"category\")\n",
    "df.dtypes"
   ]
  },
  {
   "cell_type": "code",
   "execution_count": 13,
   "metadata": {
    "id": "hNTmX4JgPKHE"
   },
   "outputs": [],
   "source": [
    "datasets['A'] = train_test_split(df.drop(['price'], axis=1), df['price'], test_size=0.25, random_state=0)\n",
    "datasets['B'] = train_test_split(df.drop(['price'] + category['categories'], axis=1), df['price'], test_size=0.25, random_state=0)\n",
    "datasets['C'] = train_test_split(pd.concat([df.drop(['price'] + category['categories'], axis=1), pd.get_dummies(df.loc[:, category['categories']])], axis=1), df['price'], test_size=0.25, random_state=0)"
   ]
  },
  {
   "cell_type": "markdown",
   "metadata": {
    "id": "lAglhMiy7X2v"
   },
   "source": [
    "Итак, кажется, что у нас всё готово для того, чтобы начать искать ответы на волнующие нас вопросы. Начнем со столь любимой нами библиотеки, а именно...\n",
    "\n",
    "## Градиентный бустинг со sklearn\n",
    "\n",
    "Естественно, в sklearn имеется реализация градиентного бустинга, которая хранится в sklearn.ensemble.GradientBoostingRegressor. Преимущественно данным классом пользуются в учебных заданиях, а в реальных задачах предпочтение отдаётся другим библиотекам. Давайте попробуем понять, заслуженно ли градиентный бустинг в sklearn не пользуется популярностью.\n",
    "\n",
    "FYI: в sklearn имеется также реализация GradientBoostingClassifier для задач классификации, но пользоваться им мы сегодня не будем.\n",
    "\n",
    "GradientBoostingRegressor из коробки не умеет работать с категориальными признаками. Мы к этому уже подготовились, закодировав наши признаки.\n",
    "\n",
    "### **Задание 2 (кросс-проверка, 1 балл)**:\n",
    "\n",
    "**Данные**: датасет со стоимостью подержанных автомобилей    \n",
    "**Метрика**: MAE    \n",
    "**Цели**: В данном задании следует выполнить следующие пункты:    \n",
    "1. Обучить sklearn.ensemble.GradientBoostingRegressor на датасетах B и C (получится два разных регрессора), используя параметры n_estimators=1000, max_depth=5, learning_rate=0.1 (наши `test_parameters`). Замерить время обучения.\n",
    "2. Посчитать MAE для предсказаний на соответствующих тренировочном и тестовом множествах (можно воспользоваться sklearn.metrics.mean_absolute_error). Замерить время предсказания.\n",
    "3. Вывести в таблице DataFrame результаты о времени обучения, времени предсказания, MAE на тренировочном и тестовом множествах.\n",
    "4. Сделайте выводы. Оцените полезность категориальных переменных. Оцените время, затраченное на обучение. Попробуйте дать оценку получившемуся MAE: оно большое или маленькое?\n"
   ]
  },
  {
   "cell_type": "code",
   "execution_count": null,
   "metadata": {
    "colab": {
     "base_uri": "https://localhost:8080/"
    },
    "id": "6UkO7KD17X2w",
    "outputId": "4b2455ff-db83-41f4-be8b-474d7606d2e7"
   },
   "outputs": [
    {
     "name": "stdout",
     "output_type": "stream",
     "text": [
      "  Dataset  Training time  Prediction time     Train MAE       Test MAE\n",
      "1       B      12.118106         0.028672  91885.188873  123180.148214\n",
      "2       C      21.611731         0.026834   4505.485242   17876.353754\n"
     ]
    }
   ],
   "source": [
    "from joblib.compressor import register_compressor\n",
    "df_skl = pd.DataFrame(columns=['Dataset', 'Training time', 'Prediction time', 'Train MAE', 'Test MAE'])\n",
    "\n",
    "# your cool code here\n",
    "regressor1 = GradientBoostingRegressor(**test_parameters)\n",
    "time_start = time.time()\n",
    "regressor1.fit(datasets['B'][0], datasets['B'][2])\n",
    "training_time = time.time() - time_start\n",
    "\n",
    "train_predict = regressor1.predict(datasets['B'][0])\n",
    "time_start = time.time()\n",
    "test_predict = regressor1.predict(datasets['B'][1])\n",
    "prediction_time = time.time() - time_start\n",
    "\n",
    "train_MAE = mean_absolute_error(datasets['B'][2], train_predict)\n",
    "test_MAE = mean_absolute_error(datasets['B'][3], test_predict)\n",
    "\n",
    "df_skl.loc[1] = ['B', training_time, prediction_time, train_MAE, test_MAE]\n",
    "\n",
    "regressor2 = GradientBoostingRegressor(**test_parameters)\n",
    "time_start = time.time()\n",
    "regressor2.fit(datasets['C'][0], datasets['C'][2])\n",
    "training_time = time.time() - time_start\n",
    "\n",
    "train_predict = regressor2.predict(datasets['C'][0])\n",
    "time_start = time.time()\n",
    "test_predict = regressor2.predict(datasets['C'][1])\n",
    "prediction_time = time.time() - time_start\n",
    "\n",
    "train_MAE = mean_absolute_error(datasets['C'][2], train_predict)\n",
    "test_MAE = mean_absolute_error(datasets['C'][3], test_predict)\n",
    "\n",
    "df_skl.loc[2] = ['C', training_time, prediction_time, train_MAE, test_MAE]\n",
    "\n",
    "print(df_skl)"
   ]
  },
  {
   "cell_type": "markdown",
   "metadata": {
    "id": "JvHOfYnF7X2w"
   },
   "source": [
    "**Ваши выводы:**\n",
    "Время обучения на датасете C почти в 2 раза больше, чем на датасете B (но достаточно быстро). Но это дало свои плоды: MAE снизился аж в 7 раз => категориальные признаки - тема, и их нужно использовать. Но, к сожалению, MAE все равно высокое (~17876)\n"
   ]
  },
  {
   "cell_type": "markdown",
   "metadata": {
    "id": "C8QeRXCp7X2x"
   },
   "source": [
    "И так, sklearn предлагает нам привычный и простой способ тренировки моделей. Однако, для градиентного бустинга существует множество эвристик и трюков, помогающих улучшить результаты. И одна из библиотек, реализующая улучшенную версию бустинга, называется xgboost.\n",
    "\n",
    "## Градиентный бустинг с XGBoost\n",
    "\n",
    "XGBoost стала достаточно популярной библиотекой, которая позволяет добиться хороших результатов без особых усилий (во всяком случае, так гласят легенды). И у нас для вас две новости: хорошая и плохая. Хорошая – xgboost, хоть и является сторонней библиотекой, сохраняет интерфейс sklearn. Плохая – она тоже не умеет из коробки работать с категориальными признаками. Ну что же, давайте пощупаем это безобразие. На этот раз нас интересует класс xgboost.XGBRegressor.\n",
    "\n",
    "Daily Fact: на самом деле в xgboost есть экспериментальная поддержка категориальных переменных, которая еще не добавлена в стабильную версию, поэтому ею мы пользоваться не будем.\n",
    "\n",
    "### Задание 3 (кросс-проверка, 1 балл):\n",
    "**Данные**: датасет со стоимостью подержанных автомобилей  \n",
    "**Метрика**: MAE  \n",
    "**Цели**: В данном задании следует выполнить следующие пункты:  \n",
    "1. Обучить xgboost.XGBRegressor на датасетах B и C, используя параметры n_estimators=1000, max_depth=5, learning_rate=0.1 (наши `test_parameters`). Замерить время обучения.\n",
    "2. Посчитать MAE для полученных предсказаний на соответствующих тренировочном и тестовом множествах (можно воспользоваться sklearn.metrics.mean_absolute_error). Замерить время предсказания\n",
    "3. Вывести в таблице DataFrame результаты о времени обучения, времени предсказания, MAE на тренировочном и тестовом множествах.\n",
    "4. Сделайте выводы. Оцените время, затраченное на обучение, сравните с sklearn.\n"
   ]
  },
  {
   "cell_type": "code",
   "execution_count": null,
   "metadata": {
    "colab": {
     "base_uri": "https://localhost:8080/"
    },
    "id": "r6QC92oz7X2x",
    "outputId": "2418742e-3b22-4818-927a-d9d8be094186"
   },
   "outputs": [
    {
     "name": "stdout",
     "output_type": "stream",
     "text": [
      "  Dataset  Training time  Prediction time     Train MAE       Test MAE\n",
      "1       B       5.325393         0.070240  92312.891142  123194.888932\n",
      "2       C      34.442531         0.033594   5601.384422   18453.964720\n"
     ]
    }
   ],
   "source": [
    "df_xgb = pd.DataFrame(columns=['Dataset', 'Training time', 'Prediction time', 'Train MAE', 'Test MAE'])\n",
    "\n",
    "# your perfect code here\n",
    "regressor3 = XGBRegressor(**test_parameters)\n",
    "time_start = time.time()\n",
    "regressor3.fit(datasets['B'][0], datasets['B'][2])\n",
    "training_time = time.time() - time_start\n",
    "\n",
    "train_predict = regressor3.predict(datasets['B'][0])\n",
    "time_start = time.time()\n",
    "test_predict = regressor3.predict(datasets['B'][1])\n",
    "prediction_time = time.time() - time_start\n",
    "\n",
    "train_MAE = mean_absolute_error(datasets['B'][2], train_predict)\n",
    "test_MAE = mean_absolute_error(datasets['B'][3], test_predict)\n",
    "\n",
    "df_xgb.loc[1] = ['B', training_time, prediction_time, train_MAE, test_MAE]\n",
    "\n",
    "regressor4 = XGBRegressor(**test_parameters)\n",
    "time_start = time.time()\n",
    "regressor4.fit(datasets['C'][0], datasets['C'][2])\n",
    "training_time = time.time() - time_start\n",
    "\n",
    "train_predict = regressor4.predict(datasets['C'][0])\n",
    "time_start = time.time()\n",
    "test_predict = regressor4.predict(datasets['C'][1])\n",
    "prediction_time = time.time() - time_start\n",
    "\n",
    "train_MAE = mean_absolute_error(datasets['C'][2], train_predict)\n",
    "test_MAE = mean_absolute_error(datasets['C'][3], test_predict)\n",
    "\n",
    "df_xgb.loc[2] = ['C', training_time, prediction_time, train_MAE, test_MAE]\n",
    "\n",
    "print(df_xgb)"
   ]
  },
  {
   "cell_type": "markdown",
   "metadata": {
    "id": "P59a_ZM77X2x"
   },
   "source": [
    "**Ваши выводы:**\n",
    "Наблюдаем аналогичную ситуацию - время обучения на C сильно больше, чем на B, но это даёт свои плоды в виде огромного уменьшения MAE. Результаты y XGB и sklearn'овского GradientBoosing очень похожи. Но стоит заметить, что обучение на B здесь быстрее, а на C дольше. Категориальные признаки снова важны. "
   ]
  },
  {
   "cell_type": "markdown",
   "metadata": {
    "id": "7HwJK-fN7X2x"
   },
   "source": [
    "Таким вот несложным образом нам удалось воспользоваться еще одной библиотекой. Давайте перейдем к третьей библиотеке, которую мы сегодня изучим, и называется она lightgbm.\n",
    "\n",
    "## Градиентный бустинг в lightgbm\n",
    "\n",
    "Про Lightgbm легенды гласят, что она очень быстрая и легкая: что самый большой датасет она без проблем переварит за относительно небольшое время. А еще её разрабатывали не хухры кто, а сами мелкомягкие, так что попробовать её определённо стоит. На этот раз у нас вновь две новости, две хороших и две плохих. Первая хорошая — lightgbm тоже похож на sklearn. Вторая хорошая — lightgbm умеет из коробки работать с категориальными признаками! Плохая — делает она это немного нетривиально (не зря я просил вас запомнить категориальные переменные!). Вторая плохая — да, нам придётся этим пользоваться для выполнения задания.\n",
    "\n",
    "Внимание! LightGBM может писать сотню радостных сообщений о том, что он увидел ваши categorical_feature и использует их. При желании можете заглушать эти оповещения, ибо в случае перебора параметров их становится слишком много. (заклинание для заглушения: `warnings.filterwarnings(\"ignore\")`)\n",
    "\n",
    "### Задание 4 (кросс-проверка, 2 балла):\n",
    "**Данные**: датасет со стоимостью подержанных автомобилей  \n",
    "**Метрика**: MAE  \n",
    "**Цели**: В данном задании следует выполнить следующие пункты:  \n",
    "1. В случае датасета, сохраненном в numpy, lightgbm требует, чтобы категории были закодированы целыми числами от 0 до числа признаков(e.g. ['a', 'b', 'a'] -> [0, 1, 0]). Сделайте это для датасета A. Если вы используете pandas, то для датасета A достаточно установить соответствующие столбцы типа \"категория\", тогда categorical_feature='auto' сам всё подхватит.\n",
    "2. Обучить lightgbm.LGBMRegressor на датасетах A, B и C, используя параметры n_estimators=1000, max_depth=5, learning_rate=0.1. В случае датасета A, передайте в функцию fit индексы/имена категориальных признаков. Замерить время обучения.\n",
    "4. Посчитать MAE для полученных предсказаний на соответствующих тренировочном и тестовом множествах (можно воспользоваться sklearn.metrics.mean_absolute_error). Сделайте выводы о полезности использования категориальных переменных и времени обучения.\n",
    "5. Вывести результаты и время в таблице DataFrame."
   ]
  },
  {
   "cell_type": "code",
   "execution_count": null,
   "metadata": {
    "colab": {
     "base_uri": "https://localhost:8080/"
    },
    "id": "lTrS59HN7X2y",
    "outputId": "f3a02fda-868e-40cf-a3c1-15444b8ba939"
   },
   "outputs": [
    {
     "name": "stdout",
     "output_type": "stream",
     "text": [
      "  Dataset  Training time  Prediction time     Train MAE       Test MAE\n",
      "0       A       0.600174         0.074602  16817.028911   25444.522235\n",
      "1       B       0.581052         0.058791  97464.815217  122524.868492\n",
      "2       C       0.570810         0.052911  21020.383955   31347.700217\n"
     ]
    }
   ],
   "source": [
    "import warnings\n",
    "warnings.filterwarnings(\"ignore\")\n",
    "\n",
    "df_lightgbm = pd.DataFrame(columns=['Dataset', 'Training time', 'Prediction time', 'Train MAE', 'Test MAE'])\n",
    "\n",
    "# your sweet code here\n",
    "regressor5_1 = LGBMRegressor(**test_parameters)\n",
    "time_start = time.time()\n",
    "regressor5_1.fit(datasets['A'][0], datasets['A'][2], categorical_feature='auto')\n",
    "training_time = time.time() - time_start\n",
    "\n",
    "train_predict = regressor5_1.predict(datasets['A'][0])\n",
    "time_start = time.time()\n",
    "test_predict = regressor5_1.predict(datasets['A'][1])\n",
    "prediction_time = time.time() - time_start\n",
    "\n",
    "train_MAE = mean_absolute_error(datasets['A'][2], train_predict)\n",
    "test_MAE = mean_absolute_error(datasets['A'][3], test_predict)\n",
    "\n",
    "df_lightgbm.loc[0] = ['A', training_time, prediction_time, train_MAE, test_MAE]\n",
    "\n",
    "regressor5 = LGBMRegressor(**test_parameters)\n",
    "time_start = time.time()\n",
    "regressor5.fit(datasets['B'][0], datasets['B'][2])\n",
    "training_time = time.time() - time_start\n",
    "\n",
    "train_predict = regressor5.predict(datasets['B'][0])\n",
    "time_start = time.time()\n",
    "test_predict = regressor5.predict(datasets['B'][1])\n",
    "prediction_time = time.time() - time_start\n",
    "\n",
    "train_MAE = mean_absolute_error(datasets['B'][2], train_predict)\n",
    "test_MAE = mean_absolute_error(datasets['B'][3], test_predict)\n",
    "\n",
    "df_lightgbm.loc[1] = ['B', training_time, prediction_time, train_MAE, test_MAE]\n",
    "\n",
    "regressor6 = LGBMRegressor(**test_parameters)\n",
    "time_start = time.time()\n",
    "regressor6.fit(datasets['C'][0], datasets['C'][2])\n",
    "training_time = time.time() - time_start\n",
    "\n",
    "train_predict = regressor6.predict(datasets['C'][0])\n",
    "time_start = time.time()\n",
    "test_predict = regressor6.predict(datasets['C'][1])\n",
    "prediction_time = time.time() - time_start\n",
    "\n",
    "train_MAE = mean_absolute_error(datasets['C'][2], train_predict)\n",
    "test_MAE = mean_absolute_error(datasets['C'][3], test_predict)\n",
    "\n",
    "df_lightgbm.loc[2] = ['C', training_time, prediction_time, train_MAE, test_MAE]\n",
    "\n",
    "print(df_lightgbm)"
   ]
  },
  {
   "cell_type": "markdown",
   "metadata": {
    "id": "5fszZoFc7X2y"
   },
   "source": [
    "**Ваши выводы:**\n",
    "LGBM тратит на обучение сильно меньше времени чем XGB и Regressor из Sklearn (реально быстро). На B результат примерно такой же, на C похуже. Вновь можно увидеть, что категориальные признаки очень важнгы для точности. MAE на A < MAE на C=> кодирование из LGBM лучше чем OHE."
   ]
  },
  {
   "cell_type": "markdown",
   "metadata": {
    "id": "VG3K3-ZU7X2y"
   },
   "source": [
    "Как вы видите, иногда можно не возиться с OHE, а позволить библиотекам самим это сделать (хотя иногда при этом приходится повозиться с самими данными, чтобы библиотека их съела).\n",
    "\n",
    "Итак, мы с вами почти стали мастерами градиентного бустинга. Переходим к последней звезде нашего хит-парада.\n"
   ]
  },
  {
   "cell_type": "markdown",
   "metadata": {
    "id": "FHGs73NI7X2z"
   },
   "source": [
    "## Градиентный бустинг в catboost\n",
    "\n",
    "_**Пролог:** Why does catboost need random seed? It grows random trees!_\n",
    "\n",
    "Библиотека, созданная в тёмных подвалах Яндекса. По легендам эта библиотека умеет работать с категориальными данными, быстрая, эффективная, легко настраивается, из коробки понимает текстовые признаки в задачах классификации и спасла Брюса Уиллиса. Давайте проверим. В качестве регрессора нас интересует catboost.CatBoostRegressor.\n",
    "\n",
    "**Внимание!** Эта библиотека еще более болтлива, чем lightgbm, но это (почти) полностью лечится с помощью verbose. Однако ноутбуки всё равно неприлично разрастаются в размерах, поэтому просим вас сделать следующее: <span style=\"color:red\"> обучать catboost в первой ячейке и очистить её вывод перед сдачей! </span> Все необходимые выводы стоит делать во второй ячейке.\n",
    "\n",
    "А еще эта библиотека может неожиданно создать вам парочку новых папок...\n",
    "\n",
    "### Задание 5 (кросс-проверка, 2 балла):\n",
    "**Данные**: датасет со стоимостью подержанных автомобилей  \n",
    "**Метрика**: MAE  \n",
    "**Цели**: В данном задании следует выполнить следующие пункты:  \n",
    "1. Обучить catboost.CatBoostRegressor на датасетах A, B и C, используя параметры используя параметры n_estimators=1000, max_depth=5, learning_rate=0.1, verbose=False.\n",
    "1. В случае датасета A, передайте на вход методу fit/конструктору параметр cat_features, содержащий имена/индексы категориальных переменных. В данном случае переводить категории в целые числа, как мы делали для lightgbm, не нужно. Замерьте время обучения.\n",
    "3. Посчитать MAE для полученных предсказаний на соответствующих тренировочном и тестовом множествах (можно воспользоваться sklearn.metrics.mean_absolute_error).\n",
    "4. Сделайте выводы и полезности использования категориальных переменных и времени обучения.\n",
    "5. Вывести результаты и время в таблице DataFrame.\n"
   ]
  },
  {
   "cell_type": "code",
   "execution_count": null,
   "metadata": {
    "colab": {
     "base_uri": "https://localhost:8080/"
    },
    "id": "4R0WHEhh7X2z",
    "outputId": "04ab5536-8e30-4382-8571-bb2db5f0b2c9"
   },
   "outputs": [
    {
     "name": "stdout",
     "output_type": "stream",
     "text": [
      "  Dataset  Training time  Prediction time     Train MAE       Test MAE\n",
      "0       A       6.581312         0.010087  10116.287231   15551.404763\n",
      "1       B       5.393385         0.011035  99789.276036  121533.351949\n",
      "2       C       7.916494         0.009980  11182.462234   19895.103270\n"
     ]
    }
   ],
   "source": [
    "from IPython.display import clear_output \n",
    "\n",
    "df_catboost = pd.DataFrame(columns=['Dataset', 'Training time', 'Prediction time', 'Train MAE', 'Test MAE'])\n",
    "\n",
    "# your cute code here\n",
    "\n",
    "# clear_output() может быть полезно если catboost будет слишком болтливым и неумолкаемым (чтобы не сдавать ноутбуки с кучей ненужного кода)\n",
    "regressor1 = CatBoostRegressor(**test_parameters, verbose=False) \n",
    "time_start = time.time()\n",
    "regressor1.fit(datasets['A'][0], datasets['A'][2], cat_features=category['categories'])\n",
    "training_time = time.time() - time_start\n",
    "train_predict = regressor1.predict(datasets['A'][0])\n",
    "time_start = time.time()\n",
    "test_predict = regressor1.predict(datasets['A'][1])\n",
    "prediction_time = time.time() - time_start\n",
    "\n",
    "train_MAE = mean_absolute_error(datasets['A'][2], train_predict)\n",
    "test_MAE = mean_absolute_error(datasets['A'][3], test_predict)\n",
    "\n",
    "df_catboost.loc[0] = ['A', training_time, prediction_time, train_MAE, test_MAE]\n",
    "\n",
    "clear_output()\n",
    "\n",
    "regressor2 = CatBoostRegressor(**test_parameters, verbose=False) \n",
    "time_start = time.time()\n",
    "regressor2.fit(datasets['B'][0], datasets['B'][2])\n",
    "training_time = time.time() - time_start\n",
    "train_predict = regressor2.predict(datasets['B'][0])\n",
    "time_start = time.time()\n",
    "test_predict = regressor2.predict(datasets['B'][1])\n",
    "prediction_time = time.time() - time_start\n",
    "\n",
    "train_MAE = mean_absolute_error(datasets['B'][2], train_predict)\n",
    "test_MAE = mean_absolute_error(datasets['B'][3], test_predict)\n",
    "\n",
    "df_catboost.loc[1] = ['B', training_time, prediction_time, train_MAE, test_MAE]\n",
    "\n",
    "clear_output()\n",
    "\n",
    "regressor3 = CatBoostRegressor(**test_parameters, verbose=False)\n",
    "time_start = time.time()\n",
    "regressor3.fit(datasets['C'][0], datasets['C'][2])\n",
    "training_time = time.time() - time_start\n",
    "train_predict = regressor3.predict(datasets['C'][0])\n",
    "time_start = time.time()\n",
    "test_predict = regressor3.predict(datasets['C'][1])\n",
    "prediction_time = time.time() - time_start\n",
    "\n",
    "train_MAE = mean_absolute_error(datasets['C'][2], train_predict)\n",
    "test_MAE = mean_absolute_error(datasets['C'][3], test_predict)\n",
    "\n",
    "df_catboost.loc[2] = ['C', training_time, prediction_time, train_MAE, test_MAE]\n",
    "\n",
    "clear_output()\n",
    "\n",
    "print(df_catboost)"
   ]
  },
  {
   "cell_type": "markdown",
   "metadata": {
    "id": "ZSZ4lQ577X2z"
   },
   "source": [
    "**Ваши выводы:**\n",
    "CatBoost тратит на обучение меньше чем LGBM, меньше чем XGB на датасете С, но примерно столько же на датасете B, и меньше чем Regressor из Sklearn. (в целом, сравнительно быстро) Результаты на A и B лучшие, на C хуже, чем у всех, кроме LGBM.\n",
    "Вновь можно увидеть, что категориальные признаки очень важнгы для точности. MAE на A < MAE на C=> кодирование из CatBoost лучше чем OHE."
   ]
  },
  {
   "cell_type": "markdown",
   "metadata": {
    "id": "YWvlkoDs7X2z"
   },
   "source": [
    "И так, мы наконец познакомились со всеми библиотеками градиентного бустинга.\n",
    "\n",
    "## Обобщение результатов\n",
    "\n",
    "На текущем этапе у вас должно быть несколько датафреймов результатами по каждой библиотеке. Мы, конечно, сделали некоторые выводы, но пришло время собрать это в красивый отчет.\n",
    "\n",
    "### Задание 6 (кросс-проверка, 2 балла):\n",
    "**Данные**: датасет с ценами подержанных автомобилей  \n",
    "**Цели**: В данном задании следует выполнить следующие пункты:  \n",
    "1. При помощи одного или нескольких графиков показать результаты различных библиотек: времени работы и качество результатов. Можете воспользоваться любым типом графиков: гистограммы, scatter и т.д. По этим графикам должно быть понятно какая библиотека и насколько быстрее, насколько различается их качество.\n",
    "2. По графикам сравните библиотеки, производительность и качество работы. Опишите ваши выводы ниже."
   ]
  },
  {
   "cell_type": "code",
   "execution_count": null,
   "metadata": {
    "colab": {
     "base_uri": "https://localhost:8080/",
     "height": 1000
    },
    "id": "o91bIyE57X2z",
    "outputId": "f6b4fbcf-0d36-4876-f527-e4f8efa5d828"
   },
   "outputs": [
    {
     "data": {
      "image/png": "[encoded data removed]",
      "text/plain": [
       "<Figure size 1600x1200 with 12 Axes>"
      ]
     },
     "metadata": {},
     "output_type": "display_data"
    }
   ],
   "source": [
    "# Your great pictures and conclusions below!\n",
    "df = pd.concat([df_skl, df_xgb, df_lightgbm, df_catboost])\n",
    "name = ['GradientBoosting', 'XGB', 'LGBM', 'CatBoost']\n",
    "column = ['Training time', 'Prediction time', 'Train MAE', 'Test MAE']\n",
    "\n",
    "fig, ax = plt.subplots(nrows=3, ncols=4, figsize=(16, 12))\n",
    "\n",
    "ax[0, 0].bar(name[2:4], df['Training time'].loc[0] , 0.3)\n",
    "ax[0, 0].set_title('Training time on dataset A')\n",
    "ax[0, 0].set_ylabel('Time(s)')\n",
    "ax[0, 0].grid()\n",
    "ax[0, 1].bar(name[2:4], df['Prediction time'].loc[0] , 0.3)\n",
    "ax[0, 1].set_title('Prediction time on dataset A')\n",
    "ax[0, 1].set_ylabel('Time(s)')\n",
    "ax[0, 1].grid()\n",
    "ax[0, 2].bar(name[2:4], df['Train MAE'].loc[0] , 0.3)\n",
    "ax[0, 2].set_title('Train MAE on dataset A')\n",
    "ax[0, 2].set_ylabel('MAE')\n",
    "ax[0, 2].grid()\n",
    "ax[0, 3].bar(name[2:4], df['Test MAE'].loc[0] , 0.3)\n",
    "ax[0, 3].set_title('Test MAE on dataset A')\n",
    "ax[0, 3].set_ylabel('MAE')\n",
    "ax[0, 3].grid()\n",
    "\n",
    "\n",
    "ax[1, 0].bar(name, df['Training time'].loc[1] , 0.3)\n",
    "ax[1, 0].set_title('Training time on dataset B')\n",
    "ax[1, 0].set_ylabel('Time(s)')\n",
    "ax[1, 0].grid()\n",
    "ax[1, 1].bar(name, df['Prediction time'].loc[1] , 0.3)\n",
    "ax[1, 1].set_title('Prediction time on dataset B')\n",
    "ax[1, 1].set_ylabel('Time(s)')\n",
    "ax[1, 1].grid()\n",
    "ax[1, 2].bar(name, df['Train MAE'].loc[1] , 0.3)\n",
    "ax[1, 2].set_title('Train MAE on dataset B')\n",
    "ax[1, 2].set_ylabel('MAE')\n",
    "ax[1, 2].grid()\n",
    "ax[1, 3].bar(name, df['Test MAE'].loc[1] , 0.3)\n",
    "ax[1, 3].set_title('Test MAE on dataset B')\n",
    "ax[1, 3].set_ylabel('MAE')\n",
    "ax[1, 3].grid()\n",
    "\n",
    "ax[2, 0].bar(name, df['Training time'].loc[2] , 0.3)\n",
    "ax[2, 0].set_title('Training time on dataset C')\n",
    "ax[2, 0].set_ylabel('Time(s)')\n",
    "ax[2, 0].grid()\n",
    "ax[2, 1].bar(name, df['Prediction time'].loc[2] , 0.3)\n",
    "ax[2, 1].set_title('Prediction time on dataset C')\n",
    "ax[2, 1].set_ylabel('Time(s)')\n",
    "ax[2, 1].grid()\n",
    "ax[2, 2].bar(name, df['Train MAE'].loc[2] , 0.3)\n",
    "ax[2, 2].set_title('Train MAE on dataset C')\n",
    "ax[2, 2].set_ylabel('MAE')\n",
    "ax[2, 2].grid()\n",
    "ax[2, 3].bar(name, df['Test MAE'].loc[2] , 0.3)\n",
    "ax[2, 3].set_title('Test MAE on dataset C')\n",
    "ax[2, 3].set_ylabel('MAE')\n",
    "ax[2, 3].grid()\n",
    "\n",
    "fig.tight_layout()"
   ]
  },
  {
   "cell_type": "markdown",
   "metadata": {
    "id": "g4cXZ1_N7X20"
   },
   "source": [
    "**Ваши выводы:**\n",
    "На датасете A измерялись только LGBM и CatBoost. Время обучения сильно меньше у LGBM, предсказания - наоборот(но у обоих быстро). Результаты на train и test лучше у CatBoost, причем являются минимальными по совокупности всех датасетов(A, B, C) \\\n",
    "На датасете B уже измерялись все библиотеки. Время обучения максимальное у Boost'era из Sklearn, минимальное у LGBM. Время предсказания у всех мало, но максимальное у  XGB, минимальное у CatBoost. Результаты на train'e очень похожи, но лучшее Booster'a sklearn, на test'e почти одинаково, но лучше всего себя показал Catboost. \\\n",
    "На датасете тоже измерялись все библиотеки. Время обучения максимальное у XGB, минимальное у LGBM. Время предсказния вновь у всех мало, что логично, но лучшее у CatBoost, худшее у LGBM . Результаты на train'e на этот раз разные. Лучшее - у Booster'a sklearn, худшее - у LGBM. На test'e лучшее вновь у Booster'a sklearn, худшее - у LGBM. \\\n",
    "В целом, наиболее стабильным является CatBoost . У него же и лучшее предсказание среди всех датасетов (на A)."
   ]
  },
  {
   "cell_type": "markdown",
   "metadata": {
    "id": "nLEFq9lM7X20"
   },
   "source": [
    "## Оптимизация параметров\n",
    "\n",
    "И так, мы с вами научились пользоваться библиотеками для градиентного бустинга. Пришло время заняться самой интересной (нет) частью исследований, а именно подбором параметров!\n",
    "\n",
    "Выберите любые две библиотеки из тех, с которыми мы работали в этом ноутбуке, и осуществите для них перебор параметров по сетке.\n",
    "\n",
    "Обратите внимание, что:\n",
    "\n",
    "1. Для всех библиотек вы можете воспользоваться классом GridSearchCV, реализованном в sklearn, осуществляющего кросс-валидацию всех параметров и поиска модели с лучшим качеством. Обратите внимание, что этот класс позволяет установить количество разбиений датасета, что достаточно сильно влияет на время работы. Также вы можете воспользоваться n_jobs=-1 для распараллеливания процесса перебора. ВНИМАНИЕ! Если Вы устанавливаете n_jobs для GridSearchCV, то не надо использовать этот параметр для обучаемых регрессоров! Результат может быть плачевным в плане времени...\n",
    "2. В catboost существует своя реализация перебора параметров, которым можно также воспользоваться (речь о grid_search).\n",
    "3. Для подбора правильной сетки параметров советуем обратиться к краткому руководству в начале ноутбука.\n",
    "\n",
    "\n",
    "### Задание 7.1 (кросс-проверка, 2 балла):\n",
    "**Данные**: датасет со стоимостью подержанных автомобилей  \n",
    "**Метрика**: MAE  \n",
    "**Цели**: В данном задании следует выполнить следующие пункты:  \n",
    "1. Взять две любые библиотеки градиентного бустинга (можете взять самые быстрые)\n",
    "2. Составить сетку перебора параметров, включающую параметры n_estimators, max_depth и learning_rate.\n",
    "3. Осуществите перебор параметров по вашей сетке при помощи GridSearchCV на датасетах B и C. Замерьте время перебора. Посчитайте качество модели обученной с оптимальными (с позиции кросс-валидации) параметрами на тренировочном и тестовом множествах.\n",
    "4. Сделайте выводы о полезности перебора параметров.\n"
   ]
  },
  {
   "cell_type": "markdown",
   "metadata": {
    "id": "wAHV1qlq7X20"
   },
   "source": [
    "## Внимание!\n",
    "\n",
    "По какой-то причине, которую мне не удалось выяснить, catboost в google colab работает очень медленно при переборе параметров. Если в соответствующем задании время обучения catboost занимает не многим более 10 секунд, то в случае кросс-валидации оно возрастает до 5 минут (соответственно, 5 минут в каждом из узлов). Поэтому используйте catboost на свой страх и риск :)"
   ]
  },
  {
   "cell_type": "code",
   "execution_count": 14,
   "metadata": {
    "id": "006a7u4k7X20"
   },
   "outputs": [],
   "source": [
    "df_optimized = pd.DataFrame(columns=['Library', 'Dataset', 'Training time', 'Train MAE', 'Test MAE'])\n",
    "\n",
    "# your ideal code goes here\n",
    "grid = {\n",
    "        'learning_rate': np.logspace(start=-5, stop=0, num=4, base=10),\n",
    "        'max_depth': np.arange(start=5, stop=10, step=1),\n",
    "        'n_estimators': np.logspace(3, 4, 5, dtype=np.int32)\n",
    "        }\n"
   ]
  },
  {
   "cell_type": "code",
   "execution_count": null,
   "metadata": {
    "colab": {
     "base_uri": "https://localhost:8080/"
    },
    "id": "d4GFv5iOAYUD",
    "outputId": "ae33999f-21a8-4d46-abe3-cb6439c55bf8"
   },
   "outputs": [
    {
     "name": "stdout",
     "output_type": "stream",
     "text": [
      "Best : {'learning_rate': 0.0004641588833612782, 'max_depth': 5, 'n_estimators': 1000}\n",
      "GridSearch time: 7408.527306318283\n"
     ]
    }
   ],
   "source": [
    "xgboost = XGBRegressor()\n",
    "clf = GridSearchCV(xgboost, grid, scoring='neg_mean_absolute_error', cv=3, n_jobs=-1)\n",
    "time_start = time.time()\n",
    "clf.fit(datasets['B'][0], datasets['B'][2])\n",
    "training_time = time.time() - time_start\n",
    "print(f'Best : {clf.best_params_}')\n",
    "print(f'GridSearch time: {training_time}')"
   ]
  },
  {
   "cell_type": "code",
   "execution_count": null,
   "metadata": {
    "id": "6YzIuMxx9hQ9"
   },
   "outputs": [],
   "source": [
    "regressor1 = XGBRegressor(**clf.best_params_)\n",
    "time_start = time.time()\n",
    "regressor1.fit(datasets['B'][0], datasets['B'][2])\n",
    "training_time = time.time() - time_start\n",
    "\n",
    "train_predict = regressor1.predict(datasets['B'][0])\n",
    "test_predict = regressor1.predict(datasets['B'][1])\n",
    "\n",
    "train_MAE = mean_absolute_error(datasets['B'][2], train_predict)\n",
    "test_MAE = mean_absolute_error(datasets['B'][3], test_predict)\n",
    "\n",
    "df_optimized.loc[0] = ['XGB', 'B', training_time, train_MAE, test_MAE]"
   ]
  },
  {
   "cell_type": "markdown",
   "metadata": {
    "id": "AWNymvIn-tVZ"
   },
   "source": [
    "Я не понял, какое время нужно класть в df_optimized, поэтому положил training time с оптимальными параметрами. Если нужно время перебора GridSearch - то оно выше."
   ]
  },
  {
   "cell_type": "code",
   "execution_count": null,
   "metadata": {
    "id": "4kfJVHs7W69k"
   },
   "outputs": [],
   "source": [
    "xgboost = XGBRegressor()\n",
    "clf = GridSearchCV(xgboost, grid, scoring='neg_mean_absolute_error', cv=3, n_jobs=-1)\n",
    "time_start = time.time()\n",
    "clf.fit(datasets['C'][0], datasets['C'][2])\n",
    "training_time = time.time() - time_start\n",
    "print(f'Best : {clf.best_params_}')\n",
    "print(f'GridSearch time: {training_time}')"
   ]
  },
  {
   "cell_type": "code",
   "execution_count": null,
   "metadata": {
    "id": "MhQc0FhbW8uO"
   },
   "outputs": [],
   "source": [
    "regressor2 = XGBRegressor(**clf.best_params_)\n",
    "time_start = time.time()\n",
    "regressor2.fit(datasets['C'][0], datasets['C'][2])\n",
    "training_time = time.time() - time_start\n",
    "\n",
    "train_predict = regressor2.predict(datasets['C'][0])\n",
    "test_predict = regressor2.predict(datasets['C'][1])\n",
    "\n",
    "train_MAE = mean_absolute_error(datasets['C'][2], train_predict)\n",
    "test_MAE = mean_absolute_error(datasets['C'][3], test_predict)\n",
    "\n",
    "df_optimized.loc[2] = ['XGB', 'C', training_time, train_MAE, test_MAE]"
   ]
  },
  {
   "cell_type": "code",
   "execution_count": null,
   "metadata": {
    "id": "sFr7H8g05Wbv"
   },
   "outputs": [],
   "source": [
    "small_grid = {\n",
    "        'learning_rate': np.logspace(start=-5, stop=0, num=3, base=10),\n",
    "        'max_depth': np.arange(start=4, stop=10, step=2),\n",
    "        'n_estimators': np.logspace(3, 4, 2, dtype=np.int32)\n",
    "        }"
   ]
  },
  {
   "cell_type": "code",
   "execution_count": 15,
   "metadata": {
    "colab": {
     "base_uri": "https://localhost:8080/"
    },
    "id": "YFdlpYh10OFP",
    "outputId": "84ba4738-bdf7-439d-ecbd-39cc79acf6fd"
   },
   "outputs": [
    {
     "name": "stdout",
     "output_type": "stream",
     "text": [
      "Best : {'learning_rate': 0.021544346900318846, 'max_depth': 5, 'n_estimators': 1000}\n",
      "GridSearch time: 825.51531291008\n"
     ]
    }
   ],
   "source": [
    "regressor = GradientBoostingRegressor()\n",
    "clf = GridSearchCV(regressor, grid, scoring='neg_mean_absolute_error', cv=3, n_jobs=-1)\n",
    "time_start = time.time()\n",
    "clf.fit(datasets['B'][0], datasets['B'][2])\n",
    "training_time = time.time() - time_start\n",
    "print(f'Best : {clf.best_params_}')\n",
    "print(f'GridSearch time: {training_time}')"
   ]
  },
  {
   "cell_type": "code",
   "execution_count": 16,
   "metadata": {
    "id": "BodLLl0A0Sz_"
   },
   "outputs": [],
   "source": [
    "regressor1 = GradientBoostingRegressor(**clf.best_params_)\n",
    "time_start = time.time()\n",
    "regressor1.fit(datasets['B'][0], datasets['B'][2])\n",
    "training_time = time.time() - time_start\n",
    "\n",
    "train_predict = regressor1.predict(datasets['B'][0])\n",
    "test_predict = regressor1.predict(datasets['B'][1])\n",
    "\n",
    "train_MAE = mean_absolute_error(datasets['B'][2], train_predict)\n",
    "test_MAE = mean_absolute_error(datasets['B'][3], test_predict)\n",
    "\n",
    "df_optimized.loc[0] = ['SKLEARN', 'B', training_time, train_MAE, test_MAE]"
   ]
  },
  {
   "cell_type": "code",
   "execution_count": null,
   "metadata": {
    "id": "RWr4NVl9P0Yr"
   },
   "outputs": [],
   "source": [
    "very_small_grid = {\n",
    "        'learning_rate': np.logspace(start=-5, stop=0, num=2, base=10),\n",
    "        'max_depth': np.arange(start=6, stop=10, step=2),\n",
    "        'n_estimators': np.logspace(3, 4, 2, dtype=np.int32)\n",
    "        }"
   ]
  },
  {
   "cell_type": "code",
   "execution_count": 17,
   "metadata": {
    "colab": {
     "base_uri": "https://localhost:8080/"
    },
    "id": "UQlmzKEpP7kq",
    "outputId": "48079629-5d5e-4ad7-d3b7-89cf591bd3fa"
   },
   "outputs": [
    {
     "name": "stdout",
     "output_type": "stream",
     "text": [
      "Fitting 3 folds for each of 100 candidates, totalling 300 fits\n",
      "Best : {'learning_rate': 0.021544346900318846, 'max_depth': 7, 'n_estimators': 1778}\n",
      "GridSearch time: 1450.465042591095\n"
     ]
    }
   ],
   "source": [
    "regressor = GradientBoostingRegressor()\n",
    "clf = GridSearchCV(regressor, grid, scoring='neg_mean_absolute_error', cv=3, n_jobs=-1, verbose=3)\n",
    "time_start = time.time()\n",
    "clf.fit(datasets['C'][0], datasets['C'][2])\n",
    "training_time = time.time() - time_start\n",
    "print(f'Best : {clf.best_params_}')\n",
    "print(f'GridSearch time: {training_time}')"
   ]
  },
  {
   "cell_type": "code",
   "execution_count": 18,
   "metadata": {
    "id": "iJS4_JLsP71O"
   },
   "outputs": [],
   "source": [
    "regressor2 = GradientBoostingRegressor(**clf.best_params_)\n",
    "time_start = time.time()\n",
    "regressor2.fit(datasets['C'][0], datasets['C'][2])\n",
    "training_time = time.time() - time_start\n",
    "\n",
    "train_predict = regressor2.predict(datasets['C'][0])\n",
    "test_predict = regressor2.predict(datasets['C'][1])\n",
    "\n",
    "train_MAE = mean_absolute_error(datasets['C'][2], train_predict)\n",
    "test_MAE = mean_absolute_error(datasets['C'][3], test_predict)\n",
    "\n",
    "df_optimized.loc[2] = ['SKLEARN', 'C', training_time, train_MAE, test_MAE]"
   ]
  },
  {
   "cell_type": "code",
   "execution_count": 19,
   "metadata": {
    "id": "BNQMsXos_kN8"
   },
   "outputs": [
    {
     "name": "stdout",
     "output_type": "stream",
     "text": [
      "Best : {'learning_rate': 0.021544346900318846, 'max_depth': 9, 'n_estimators': 1778}\n",
      "GridSearch time: 115.32609939575195\n"
     ]
    }
   ],
   "source": [
    "lgbm = LGBMRegressor()\n",
    "clf = GridSearchCV(lgbm, grid, scoring='neg_mean_absolute_error', cv=3, n_jobs=-1)\n",
    "time_start = time.time()\n",
    "clf.fit(datasets['B'][0], datasets['B'][2])\n",
    "training_time = time.time() - time_start\n",
    "print(f'Best : {clf.best_params_}')\n",
    "print(f'GridSearch time: {training_time}')"
   ]
  },
  {
   "cell_type": "code",
   "execution_count": 20,
   "metadata": {
    "id": "RaPqJiCP_kka"
   },
   "outputs": [],
   "source": [
    "regressor3 = LGBMRegressor(**clf.best_params_)\n",
    "time_start = time.time()\n",
    "regressor3.fit(datasets['B'][0], datasets['B'][2])\n",
    "training_time = time.time() - time_start\n",
    "\n",
    "train_predict = regressor3.predict(datasets['B'][0])\n",
    "test_predict = regressor3.predict(datasets['B'][1])\n",
    "\n",
    "train_MAE = mean_absolute_error(datasets['B'][2], train_predict)\n",
    "test_MAE = mean_absolute_error(datasets['B'][3], test_predict)\n",
    "\n",
    "df_optimized.loc[1] = ['LGBM', 'B', training_time, train_MAE, test_MAE]"
   ]
  },
  {
   "cell_type": "code",
   "execution_count": 21,
   "metadata": {
    "id": "Rc_8bM-7_k5b"
   },
   "outputs": [
    {
     "name": "stdout",
     "output_type": "stream",
     "text": [
      "Best : {'learning_rate': 0.021544346900318846, 'max_depth': 9, 'n_estimators': 10000}\n",
      "GridSearch time: 137.80427408218384\n"
     ]
    }
   ],
   "source": [
    "lgbm = LGBMRegressor()\n",
    "clf = GridSearchCV(lgbm, grid, scoring='neg_mean_absolute_error', cv=3, n_jobs=-1)\n",
    "time_start = time.time()\n",
    "clf.fit(datasets['C'][0], datasets['C'][2])\n",
    "training_time = time.time() - time_start\n",
    "print(f'Best : {clf.best_params_}')\n",
    "print(f'GridSearch time: {training_time}')"
   ]
  },
  {
   "cell_type": "code",
   "execution_count": 22,
   "metadata": {
    "id": "CFFOChmL_lPR"
   },
   "outputs": [],
   "source": [
    "regressor4 = LGBMRegressor(**clf.best_params_)\n",
    "time_start = time.time()\n",
    "regressor4.fit(datasets['C'][0], datasets['C'][2])\n",
    "training_time = time.time() - time_start\n",
    "\n",
    "train_predict = regressor4.predict(datasets['C'][0])\n",
    "test_predict = regressor4.predict(datasets['C'][1])\n",
    "\n",
    "train_MAE = mean_absolute_error(datasets['C'][2], train_predict)\n",
    "test_MAE = mean_absolute_error(datasets['C'][3], test_predict)\n",
    "\n",
    "df_optimized.loc[3] = ['LGBM', 'C', training_time, train_MAE, test_MAE]"
   ]
  },
  {
   "cell_type": "code",
   "execution_count": 23,
   "metadata": {
    "id": "x6jLNR87QEVI"
   },
   "outputs": [
    {
     "name": "stdout",
     "output_type": "stream",
     "text": [
      "   Library Dataset  Training time      Train MAE       Test MAE\n",
      "0  SKLEARN       B       6.398451   99802.372500  121832.602515\n",
      "2  SKLEARN       C      25.338778    4267.480932   16416.152386\n",
      "1     LGBM       B       0.661581  101255.559345  122921.329109\n",
      "3     LGBM       C       6.295180    6875.890610   23989.752355\n"
     ]
    }
   ],
   "source": [
    "print(df_optimized)"
   ]
  },
  {
   "cell_type": "markdown",
   "metadata": {
    "id": "7JY1G_lq7X20"
   },
   "source": [
    "**Ваши выводы:**\n",
    "Во-первых, GridSearch на большой сетке(мой grid - из 100 узлов) занимает оооочень много времени (в Jupyter notebook поменьше). Зато MAE достаточно неплохо уменьшается. Вообщем, можно сделать вывод, что если у вас есть время и терпение(!), то это может стоить того."
   ]
  },
  {
   "cell_type": "markdown",
   "metadata": {
    "id": "dnhDFuH00cXl"
   },
   "source": [
    "### Задание 7.2 (бонус) (кросс-проверка, 4 балла):\n",
    "**Данные**: датасет со стоимостью подержанных автомобилей  \n",
    "**Метрика**: MAE  \n",
    "**Цели**: В данном задании следует выполнить следующие пункты:  \n",
    "1. Выполнить задание 7.1 с использованием всех библиотек (для каждой библиотеки можно использовать свою сетку перебора). Разрешается использовать маленькие сетки с небольшим числом узлов, но не менее 10.\n",
    "1. Вывести ниже результаты работы с нашими дефолтными параметрами, а также с оптимальными.\n",
    "1. Вы будете получать 1 балл за каждую библиотеку с использованием которой точность ваших оптимальных параметров превзойдет качество наших дефолтных параметров. Таким образом, максимальный балл за задание равен числу библиотек, 4 балла. \n"
   ]
  },
  {
   "cell_type": "code",
   "execution_count": null,
   "metadata": {
    "id": "Hf0ZCa51ab65"
   },
   "outputs": [],
   "source": [
    "# your genious code here\n"
   ]
  },
  {
   "cell_type": "markdown",
   "metadata": {
    "id": "xEOJnYHccGpV"
   },
   "source": [
    "**Ваши пояснения для проверяющих (опционально):**"
   ]
  },
  {
   "cell_type": "markdown",
   "metadata": {
    "id": "PQYs352Y7X21"
   },
   "source": [
    "Обычнно перебор параметров и поиск по сетке это самая скучная часть работы, поскольку занимает много времени, но не гарантирует воспроизведение результата при небольшом изменении датасета, да и сетку надо переосмысливать при каждом обновлении.\n",
    "\n",
    "Но сейчас мы поймём, что этого можно избежать, поскольку есть библиотека, которая всё сделает за нас!"
   ]
  },
  {
   "cell_type": "markdown",
   "metadata": {
    "id": "qKaHyLb0VywX"
   },
   "source": [
    "Эмоции выполняющего в этот момент.png\n",
    "\n",
    "![index.png](data:image/png;base64,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)"
   ]
  },
  {
   "cell_type": "markdown",
   "metadata": {
    "id": "xQ6oJJ2i7X21"
   },
   "source": [
    "Нашего спасителя зовут HyperOpt. На первый взгляд hyperopt делает всё то же самое, что и grid search, а именно перебирает параметры. По факту же hyperopt превращает это в задачу оптимизации, используя некоторые эвристики для ускорения сходимости процесса. К тому же, он требует лишь информацию о границе интервалов, а не сами сетки. В теории это должно помочь нам добиться лучших результатов за более короткое время. Давайте попробуем это сделать.\n",
    "\n",
    "Для данного эксперимента я рекомендую использовать lightgbm, поскольку она быстрее и с ней удобнее играться, но Вы можете воспользоваться любой библиотекой из представленных выше.\n",
    "\n",
    "### Задание 8 (кросс-проверка, 2 балла):\n",
    "**Данные**: датасет со стоимостью подержанных автомобилей\n",
    "\n",
    "**Метрика**: MAE\n",
    "\n",
    "**Цели**: В данном задании следует выполнить следующие пункты:\n",
    "1. Взять любую библиотеку градиентного бустинга (можете взять самую быструю)\n",
    "2. Составить сетку перебора в hyperopt, включающую параметры n_estimators, max_depth и learning_rate в hyperopt. Вам могут понадобиться такие типы данных, как hp.choise, hp.qloguniform, hp.uniform и hp.quniform (можно также пользоваться np.arange). Также для округления значения типа float до целых чисел (4.0 -> 4) используйте `scope.int`.\n",
    "3. Реализуйте функцию, которая принимает на вход словарь параметров для регрессора, и при помощи cv оценивает его качество на датасете A (можно воспользоваться cross_val_score, а для ускорения поставить cv=3). Не забудьте о том, в каком виде lightgbm принимает категориальные признаки в numpy и что также надо передавать индексы категориальных признаков.\n",
    "4. Создайте объект trials=Trials(), который будет хранить информацию о процессе оптимизации.\n",
    "5. Используя функцию fmin, оптимизируйте Вашу функцию. Установите algo=tpe.suggest, trials=trials и max_evals, по крайней мере, 50. verbose=1 позволит видеть прогресс-бар по типу tqdm.\n",
    "6. Выведите получившиеся параметры. Нарисуйте график, показывающий значение loss в ходе оптимизации. Посчитайте качество на тесте при использовании лучших параметров (возвращаются после использования fmin). Сделайте выводы по результату."
   ]
  },
  {
   "cell_type": "code",
   "execution_count": null,
   "metadata": {
    "colab": {
     "base_uri": "https://localhost:8080/"
    },
    "id": "jJDicHZi7X21",
    "outputId": "b714d665-0a12-4813-d12b-b36d4858f580"
   },
   "outputs": [
    {
     "name": "stdout",
     "output_type": "stream",
     "text": [
      "100%|██████████| 50/50 [1:55:54<00:00, 139.09s/trial, best loss: 30506.775026907908]\n",
      "{'learning_rate': 0.0018218633259920569, 'max_depth': 4, 'n_estimators': 19435.685255306023}\n"
     ]
    }
   ],
   "source": [
    "# B) your code goes right here\n",
    "from hyperopt import STATUS_OK\n",
    "def func(params):\n",
    "    lgbm = LGBMRegressor(**params)\n",
    "    score = cross_val_score(lgbm, datasets['A'][0], datasets['A'][2], cv=3, scoring='neg_mean_absolute_error')\n",
    "    return   {'loss': -score.mean(), 'params': params, 'status': STATUS_OK}\n",
    "search_space =  {\n",
    "                'learning_rate': hp.loguniform(label='learning_rate', low=-5*np.log(10), high=0*np.log(10)),\n",
    "                'max_depth': hp.choice(label='max_depth', options=np.arange(start=5, stop=10, step=1)),\n",
    "                'n_estimators': scope.int(hp.loguniform(label='n_estimators', low=2*np.log(10), high=5*np.log(10)))\n",
    "                }\n",
    "trials = Trials()\n",
    "best = fmin( \n",
    "            fn=func,\n",
    "            space=search_space,\n",
    "            algo=tpe.suggest,\n",
    "            max_evals=50,\n",
    "            trials=trials,\n",
    "            verbose=1\n",
    "        )\n",
    "print(best)"
   ]
  },
  {
   "cell_type": "code",
   "execution_count": null,
   "metadata": {
    "colab": {
     "base_uri": "https://localhost:8080/"
    },
    "id": "T801zB3rgXxt",
    "outputId": "1f09f8e0-c06c-4e23-9e33-048923038a36"
   },
   "outputs": [
    {
     "name": "stdout",
     "output_type": "stream",
     "text": [
      "MAE: 27034.046387893086\n"
     ]
    }
   ],
   "source": [
    "lgbm = LGBMRegressor(learning_rate=0.0018218633259920569, max_depth=4, n_estimators=19435)\n",
    "lgbm.fit(datasets['A'][0], datasets['A'][2])\n",
    "test_predict = lgbm.predict(datasets['A'][1])\n",
    "MAE = mean_absolute_error(datasets['A'][3], test_predict)\n",
    "print(f\"MAE: {MAE}\")"
   ]
  },
  {
   "cell_type": "code",
   "execution_count": null,
   "metadata": {
    "colab": {
     "base_uri": "https://localhost:8080/",
     "height": 591
    },
    "id": "HrnlVJXVgpvX",
    "outputId": "08fba6a1-80f3-4d66-9c12-e894bd4adfb6"
   },
   "outputs": [
    {
     "data": {
      "image/png": "[encoded data removed]",
      "text/plain": [
       "<Figure size 2000x700 with 1 Axes>"
      ]
     },
     "metadata": {},
     "output_type": "display_data"
    }
   ],
   "source": [
    "loss = [i['loss'] for i in trials.results]\n",
    "eval = [i for i in range(0,50)]\n",
    "plt.figure(figsize=(20, 7))\n",
    "plt.title('Значение loss в ходе оптимизации',fontsize=15)\n",
    "plt.plot(eval, loss, linestyle='-', color='darkred')\n",
    "plt.ylabel('Значение loss',  fontsize=12)\n",
    "plt.xlabel('Номер итерации',  fontsize=12)\n",
    "plt.grid(True)"
   ]
  },
  {
   "cell_type": "markdown",
   "metadata": {
    "id": "nlDR9qQq7X21"
   },
   "source": [
    "**Ваши выводы:** И снова жесть по потраченному времени. Возможно, max eval все же стоит взять меньше, но тут сделал минимум по заданию. MAE даже почему-то стало больше, чем было изначально, поэтому не знаю, есть ли в этом смысл."
   ]
  },
  {
   "cell_type": "markdown",
   "metadata": {
    "id": "ro50Y3f17X21"
   },
   "source": [
    "## Предсказание зрительских симпатий\n",
    "\n",
    "Ну что, детишки, а теперь перейдём к действительно важным вопросам.\n",
    "\n",
    "**Внимание!** Следующее задание сдается в системе cv-gml.ru, задание `Град. бустинг (ML)` Для выполнения этого задания необходимо скачать датасет из задания. Здесь вы можете немного почитать про датасет и, при желании, поэкспериментировать. На cv-gml.ru загружайте уже готовый скрипт с подобранными параметрами для обучаемого регрессора. Релизовать код необходимо в шаблонном файле awards_prediction.py, который вы можете найти в проверяющей системе.\n",
    "\n",
    "В некотором царстве, некотором государстве была развита кинопромышленность. Новые фильмы в этом государстве показывают по интернету, а пользователи после просмотра могут дать фильму некоторую \"награду\". Наша цель - предсказать число наград для фильма.\n",
    "\n",
    "В нашем распоряжении имеются следующие данные:\n",
    "\n",
    "**awards** - количество наград, полученных фильмом от пользователей (целевое значение)  \n",
    "**potions** - количество магических зелий, потраченных на создание спец-эффектов  \n",
    "**genres** - жанры созданного фильма  \n",
    "**questions** - количество вопросов, заданных пользователями на соответствующих форумах об этом фильме до премьеры  \n",
    "**directors** - режиссеры фильма (если неизвестны, то unknown)  \n",
    "**filming_locations** - области, в которых снимался фильм  \n",
    "**runtime** - продолжительность фильма в некоторых единицах, принятых в этом государстве  \n",
    "**critics_liked** - количество критиков из 100, присудивших награды фильму на предварительных закрытых показах  \n",
    "**pre-orders** - количество зрителей, заранее купивших билеты на первый показ  \n",
    "**keywords** - ключевые слова, описывающие содержание фильма\n",
    "**release_year** - год, во котором фильм был показан (конечно, в летоисчислении этого государства)\n",
    "\n",
    "Следующие поля появляются несколько раз с разными значениями i:\n",
    "\n",
    "**actor_i_known_movies** - количество известных фильмов актера i (i от 0 до 2)\n",
    "\n",
    "**actor_i_postogramm** - количество подписчиков в социальной сети \"по сто грамм\" актера i (i от 0 до 2)\n",
    "\n",
    "**actor_i_gender** - пол актера i (i от 0 до 2)\n",
    "\n",
    "**actor_i_age** - возраст актера i (i от 0 до 2)\n",
    "\n",
    "-----\n",
    "**Внимание!** Учтите, что при OHE кодировании признаки на обучении и тестировании должны совпадать! Если вы примените простое .get_dummies() или что-то подобное, то признаки на трейне и тесте получатся разные! Так что вам, вероятно, придётся придумать способ для того, чтобы сохранить их :)  \n",
    "\n",
    "Подсказка: для работы с текстом можно воспользоваться методом TF-IDF (ключевые слова: TfIdfTransformer). Также может быть полезен CountVectorizer. Только учтите, что никто не гарантирует улучшение результата с использованием данных методов  ;)\n",
    "\n",
    "<font color=\"red\">Внимание!</font> В проверяющей системе имеется проблема с catboost. При использовании этой библиотеки, в скрипте с решением необходимо инициализировать метод с использованием `train_dir` как показано тут:\n",
    "`CatBoostRegressor(train_dir='/tmp/catboost_info')`\n",
    "\n",
    "### Задание 9 (ML задание, 15 баллов):\n",
    "**Данные**: датасет с наградами за фильмы\n",
    "\n",
    "**Метрика**: MAE  \n",
    "\n",
    "**Цели**: В данном задании следует выполнить следующие пункты:  \n",
    "1. Взять любую библиотеку градиентного бустинга\n",
    "2. Используя предложенный датасет, обучить регрессор для предсказания awards (предоставляем полную свободу в настройках и выборе методов)\n",
    "3. Загрузить решение и получить качество на закрытой выборке больше порогового значения"
   ]
  },
  {
   "cell_type": "code",
   "execution_count": null,
   "metadata": {},
   "outputs": [],
   "source": [
    "print(best)"
   ]
  },
  {
   "cell_type": "markdown",
   "metadata": {
    "id": "XFk8jZ_q7X22"
   },
   "source": [
    "\n",
    "## Конец\n",
    "\n",
    "Ну что детишки... Можете добавлять еще 4 библиотеки в своё резюме датасаентиста!\n"
   ]
  },
  {
   "cell_type": "markdown",
   "metadata": {
    "id": "eX6VORz4e90s"
   },
   "source": [
    "```\n",
    "(╯°□°)╯︵ ┻━┻ FLIP THAT TABLE.\n",
    "\n",
    "┻━┻ ︵ ヽ(°□°ヽ) FLIP THIS TABLE.\n",
    "\n",
    "┻━┻ ︵ ＼\\('0')/／ ︵ ┻━┻ FLIP ALL THE TABLES\n",
    "\n",
    "ಠ_ಠ Son... ಠ_ಠ Put. ಠ__ಠ The tables. ಠ___ಠ Back.\n",
    "\n",
    "(╮°-°)╮┳━┳ \n",
    "\n",
    "(╯°□°)╯︵ ┻━┻ NEVER!!!!\n",
    "```\n",
    "\n"
   ]
  }
 ],
 "metadata": {
  "colab": {
   "provenance": []
  },
  "kernelspec": {
   "display_name": "Python 3 (ipykernel)",
   "language": "python",
   "name": "python3"
  },
  "language_info": {
   "codemirror_mode": {
    "name": "ipython",
    "version": 3
   },
   "file_extension": ".py",
   "mimetype": "text/x-python",
   "name": "python",
   "nbconvert_exporter": "python",
   "pygments_lexer": "ipython3",
   "version": "3.9.16"
  },
  "widgets": {
   "application/vnd.jupyter.widget-state+json": {
    "157e6512fe58493393f652c2e1365ed9": {
     "model_module": "@jupyter-widgets/controls",
     "model_module_version": "2.0.0",
     "model_name": "ButtonStyleModel",
     "state": {
      "_model_module": "@jupyter-widgets/controls",
      "_model_module_version": "2.0.0",
      "_model_name": "ButtonStyleModel",
      "_view_count": null,
      "_view_module": "@jupyter-widgets/base",
      "_view_module_version": "2.0.0",
      "_view_name": "StyleView",
      "button_color": null,
      "font_family": null,
      "font_size": null,
      "font_style": null,
      "font_variant": null,
      "font_weight": null,
      "text_color": null,
      "text_decoration": null
     }
    },
    "c10188c2a4004eb59773ef52c304ec48": {
     "model_module": "@jupyter-widgets/base",
     "model_module_version": "2.0.0",
     "model_name": "LayoutModel",
     "state": {
      "_model_module": "@jupyter-widgets/base",
      "_model_module_version": "2.0.0",
      "_model_name": "LayoutModel",
      "_view_count": null,
      "_view_module": "@jupyter-widgets/base",
      "_view_module_version": "2.0.0",
      "_view_name": "LayoutView",
      "align_content": null,
      "align_items": null,
      "align_self": null,
      "border_bottom": null,
      "border_left": null,
      "border_right": null,
      "border_top": null,
      "bottom": null,
      "display": null,
      "flex": null,
      "flex_flow": null,
      "grid_area": null,
      "grid_auto_columns": null,
      "grid_auto_flow": null,
      "grid_auto_rows": null,
      "grid_column": null,
      "grid_gap": null,
      "grid_row": null,
      "grid_template_areas": null,
      "grid_template_columns": null,
      "grid_template_rows": null,
      "height": "40px",
      "justify_content": null,
      "justify_items": null,
      "left": null,
      "margin": null,
      "max_height": null,
      "max_width": null,
      "min_height": null,
      "min_width": null,
      "object_fit": null,
      "object_position": null,
      "order": null,
      "overflow": null,
      "padding": null,
      "right": null,
      "top": null,
      "visibility": null,
      "width": "auto"
     }
    },
    "faaec1c536c74f9eadada9fef114cd1e": {
     "model_module": "@jupyter-widgets/controls",
     "model_module_version": "2.0.0",
     "model_name": "ButtonModel",
     "state": {
      "_dom_classes": [],
      "_model_module": "@jupyter-widgets/controls",
      "_model_module_version": "2.0.0",
      "_model_name": "ButtonModel",
      "_view_count": null,
      "_view_module": "@jupyter-widgets/controls",
      "_view_module_version": "2.0.0",
      "_view_name": "ButtonView",
      "button_style": "",
      "description": "Нажмите, чтобы перезапустить Google Colab Runtime",
      "disabled": false,
      "icon": "",
      "layout": "IPY_MODEL_c10188c2a4004eb59773ef52c304ec48",
      "style": "IPY_MODEL_157e6512fe58493393f652c2e1365ed9",
      "tabbable": null,
      "tooltip": null
     }
    }
   }
  }
 },
 "nbformat": 4,
 "nbformat_minor": 1
}
